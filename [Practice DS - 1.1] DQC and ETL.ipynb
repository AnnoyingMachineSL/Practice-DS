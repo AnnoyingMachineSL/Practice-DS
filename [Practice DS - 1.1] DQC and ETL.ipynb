{
 "cells": [
  {
   "cell_type": "code",
   "execution_count": 186,
   "id": "5c8ae544",
   "metadata": {},
   "outputs": [],
   "source": [
    "import numpy as np\n",
    "import pandas as pd\n",
    "import matplotlib.pyplot as plt\n",
    "import os\n",
    "import seaborn as sns\n",
    "from statsmodels.tsa.seasonal import seasonal_decompose\n",
    "from datetime import datetime\n",
    "import re\n",
    "import string\n",
    "import scipy.spatial.distance as ds\n",
    "from sklearn.feature_extraction.text import HashingVectorizer\n",
    "from tqdm import tqdm"
   ]
  },
  {
   "cell_type": "code",
   "execution_count": 187,
   "id": "59fe8675",
   "metadata": {},
   "outputs": [],
   "source": [
    "# Data path\n",
    "main_path = 'C:\\\\Users\\\\MyPC\\\\Desktop\\\\vs py\\\\Innowise HW\\\\1. Data\\\\'"
   ]
  },
  {
   "cell_type": "code",
   "execution_count": 188,
   "id": "9bf708fb",
   "metadata": {},
   "outputs": [],
   "source": [
    "def get_files_list(main_path):\n",
    "    \n",
    "    files_dict = {}\n",
    "    files_list = os.listdir(main_path)\n",
    "    \n",
    "    for file in files_list:\n",
    "        file_name = file.split('.csv')[0]\n",
    "        files_dict[file_name] = file\n",
    "        \n",
    "    print(files_dict)   \n",
    "    \n",
    "    return files_dict\n",
    "\n",
    "def get_df(path):\n",
    "    \n",
    "    df_path = os.path.join(main_path, path)\n",
    "    df = pd.read_csv(df_path)\n",
    "    \n",
    "    return df\n",
    "\n",
    "def get_numeric_columns(df):\n",
    "    \n",
    "    numeric_columns  = df.select_dtypes(include=['int64', 'float64']).columns\n",
    "    print(numeric_columns)\n",
    "    \n",
    "    return numeric_columns\n",
    "\n",
    "def get_object_columns(df):\n",
    "    \n",
    "    object_columns  = df.select_dtypes(include='object').columns\n",
    "    print(object_columns)\n",
    "    \n",
    "    return object_columns\n",
    "\n",
    "def data_representation(separated_df, column_name):\n",
    "    \n",
    "    flag = False\n",
    "    \n",
    "    unique_values_in_train = united_train_data[column_name].unique().tolist()\n",
    "    base_values = separated_df[column_name].unique().tolist()\n",
    "    \n",
    "    for i in unique_values_in_train:\n",
    "        if i not in base_values:\n",
    "            print(i)\n",
    "            flag = True\n",
    "            \n",
    "    if flag == False:\n",
    "        print('All the unique values represented in data')\n",
    "\n",
    "        \n",
    "def symbol_filter(record):\n",
    "    \n",
    "    power_numbers = ['⁰', '¹', '²', '³', '⁴', '⁵', '⁶', '⁷', '⁸', '⁹']\n",
    "    record = ''.join(map(str, [i for i in record if i not in string.punctuation and i not in power_numbers]))\n",
    "    return record\n",
    "\n",
    "\n",
    "def vectorization_text(records):\n",
    "    \n",
    "    new_vectors = records.copy()\n",
    "    vectorizer = HashingVectorizer(n_features=19)\n",
    "    \n",
    "    for i in range(len(new_vectors)):\n",
    "        vector = vectorizer.transform([new_vectors.iloc[i]])\n",
    "        new_vectors.iloc[i] = vector.toarray()[0]\n",
    "        \n",
    "    return new_vectors\n",
    "\n",
    "\n",
    "def distance(vec1, vec2):\n",
    "    return (1 - ds.cosine(vec1, vec2))\n",
    "    \n",
    "\n",
    "def distance_between_vectors(df):\n",
    "    \n",
    "    distances = {}\n",
    "    \n",
    "    for i in tqdm(range(0, len(df) - 1)):\n",
    "        for j in range(i+1, len(df)):\n",
    "            if distance(df[i], df[j]) >= 0.75:\n",
    "                if i not in distances:\n",
    "                    distances[i] = [j]\n",
    "                else:\n",
    "                    distances[i].append(j)\n",
    "    \n",
    "    return distances\n",
    "\n",
    "\n",
    "def similar_vectors(vectors_difference, df, colum_name):\n",
    "    \n",
    "    for key in vectors_difference:\n",
    "        print(key, df.iloc[key][colum_name])\n",
    "        print(df.iloc[vectors_difference[key]][colum_name])\n",
    "        print('==================')\n",
    "        \n",
    "        \n",
    "def check_records_duplicates(df, colum_name):\n",
    "    \n",
    "    df_copy = df.copy()\n",
    "    \n",
    "    for i in range(len(df_copy)):\n",
    "        df_copy[colum_name].iloc[i] = symbol_filter(df_copy[colum_name].iloc[i])\n",
    "    \n",
    "    df_copy[colum_name] = vectorization_text(df_copy[colum_name])\n",
    "    \n",
    "    vectors_difference = distance_between_vectors(df_copy[colum_name])\n",
    "    similar_vectors(vectors_difference, df, colum_name)\n",
    "    \n",
    "    \n",
    "def duplicate_sales(df, shop_id, shop_id_dup):\n",
    "    \n",
    "    main_shop_sales = df[df['shop_id'] == shop_id].groupby('date_block_num').agg({'item_cnt_day': 'count'}).reset_index()\n",
    "    duplicate_shop_sales = df[df['shop_id'] == shop_id_dup].groupby('date_block_num').agg({'item_cnt_day': 'count'}).reset_index()\n",
    "        \n",
    "    name_main_shop = df.iloc[shop_id]['shop_name']\n",
    "    name_duplicate_shop = df.iloc[shop_id_dup]['shop_name']\n",
    "    \n",
    "    plt.figure(figsize=(10, 5))\n",
    "    plt.plot(main_shop_sales['date_block_num'], main_shop_sales['item_cnt_day'], \n",
    "                                     label = f'{name_main_shop}, id: {shop_id}')\n",
    "    \n",
    "    plt.plot(duplicate_shop_sales['date_block_num'], duplicate_shop_sales['item_cnt_day'], \n",
    "                                     label = f'{name_duplicate_shop}, id: {shop_id_dup}')\n",
    "    plt.legend()\n",
    "    plt.show()"
   ]
  },
  {
   "cell_type": "code",
   "execution_count": 189,
   "id": "5549bd9e",
   "metadata": {},
   "outputs": [
    {
     "name": "stdout",
     "output_type": "stream",
     "text": [
      "{'items': 'items.csv', 'item_categories': 'item_categories.csv', 'sales_train': 'sales_train.csv', 'sample_submission': 'sample_submission.csv', 'shops': 'shops.csv', 'test': 'test.csv'}\n"
     ]
    }
   ],
   "source": [
    "file_dict = get_files_list(main_path)"
   ]
  },
  {
   "cell_type": "code",
   "execution_count": 190,
   "id": "75cb14b8",
   "metadata": {},
   "outputs": [],
   "source": [
    "sales_train_df = get_df(file_dict['sales_train'])\n",
    "item_df = get_df(file_dict['items'])\n",
    "item_category_df = get_df(file_dict['item_categories'])\n",
    "sample_submission_df = get_df(file_dict['sample_submission'])\n",
    "shops_df = get_df(file_dict['shops'])\n",
    "test_df = get_df(file_dict['test'])"
   ]
  },
  {
   "cell_type": "markdown",
   "id": "49b20987",
   "metadata": {},
   "source": [
    "# Sales train"
   ]
  },
  {
   "cell_type": "code",
   "execution_count": 191,
   "id": "b60e261a",
   "metadata": {},
   "outputs": [
    {
     "data": {
      "text/html": [
       "<div>\n",
       "<style scoped>\n",
       "    .dataframe tbody tr th:only-of-type {\n",
       "        vertical-align: middle;\n",
       "    }\n",
       "\n",
       "    .dataframe tbody tr th {\n",
       "        vertical-align: top;\n",
       "    }\n",
       "\n",
       "    .dataframe thead th {\n",
       "        text-align: right;\n",
       "    }\n",
       "</style>\n",
       "<table border=\"1\" class=\"dataframe\">\n",
       "  <thead>\n",
       "    <tr style=\"text-align: right;\">\n",
       "      <th></th>\n",
       "      <th>date</th>\n",
       "      <th>date_block_num</th>\n",
       "      <th>shop_id</th>\n",
       "      <th>item_id</th>\n",
       "      <th>item_price</th>\n",
       "      <th>item_cnt_day</th>\n",
       "    </tr>\n",
       "  </thead>\n",
       "  <tbody>\n",
       "    <tr>\n",
       "      <th>0</th>\n",
       "      <td>02.01.2013</td>\n",
       "      <td>0</td>\n",
       "      <td>59</td>\n",
       "      <td>22154</td>\n",
       "      <td>999.00</td>\n",
       "      <td>1.0</td>\n",
       "    </tr>\n",
       "    <tr>\n",
       "      <th>1</th>\n",
       "      <td>03.01.2013</td>\n",
       "      <td>0</td>\n",
       "      <td>25</td>\n",
       "      <td>2552</td>\n",
       "      <td>899.00</td>\n",
       "      <td>1.0</td>\n",
       "    </tr>\n",
       "    <tr>\n",
       "      <th>2</th>\n",
       "      <td>05.01.2013</td>\n",
       "      <td>0</td>\n",
       "      <td>25</td>\n",
       "      <td>2552</td>\n",
       "      <td>899.00</td>\n",
       "      <td>-1.0</td>\n",
       "    </tr>\n",
       "    <tr>\n",
       "      <th>3</th>\n",
       "      <td>06.01.2013</td>\n",
       "      <td>0</td>\n",
       "      <td>25</td>\n",
       "      <td>2554</td>\n",
       "      <td>1709.05</td>\n",
       "      <td>1.0</td>\n",
       "    </tr>\n",
       "    <tr>\n",
       "      <th>4</th>\n",
       "      <td>15.01.2013</td>\n",
       "      <td>0</td>\n",
       "      <td>25</td>\n",
       "      <td>2555</td>\n",
       "      <td>1099.00</td>\n",
       "      <td>1.0</td>\n",
       "    </tr>\n",
       "  </tbody>\n",
       "</table>\n",
       "</div>"
      ],
      "text/plain": [
       "         date  date_block_num  shop_id  item_id  item_price  item_cnt_day\n",
       "0  02.01.2013               0       59    22154      999.00           1.0\n",
       "1  03.01.2013               0       25     2552      899.00           1.0\n",
       "2  05.01.2013               0       25     2552      899.00          -1.0\n",
       "3  06.01.2013               0       25     2554     1709.05           1.0\n",
       "4  15.01.2013               0       25     2555     1099.00           1.0"
      ]
     },
     "execution_count": 191,
     "metadata": {},
     "output_type": "execute_result"
    }
   ],
   "source": [
    "sales_train_df.head()"
   ]
  },
  {
   "cell_type": "code",
   "execution_count": 192,
   "id": "0e0d0f36",
   "metadata": {},
   "outputs": [
    {
     "data": {
      "text/plain": [
       "(2935849, 6)"
      ]
     },
     "execution_count": 192,
     "metadata": {},
     "output_type": "execute_result"
    }
   ],
   "source": [
    "sales_train_df.shape"
   ]
  },
  {
   "cell_type": "code",
   "execution_count": 193,
   "id": "150439a2",
   "metadata": {},
   "outputs": [
    {
     "name": "stdout",
     "output_type": "stream",
     "text": [
      "<class 'pandas.core.frame.DataFrame'>\n",
      "RangeIndex: 2935849 entries, 0 to 2935848\n",
      "Data columns (total 6 columns):\n",
      " #   Column          Dtype  \n",
      "---  ------          -----  \n",
      " 0   date            object \n",
      " 1   date_block_num  int64  \n",
      " 2   shop_id         int64  \n",
      " 3   item_id         int64  \n",
      " 4   item_price      float64\n",
      " 5   item_cnt_day    float64\n",
      "dtypes: float64(2), int64(3), object(1)\n",
      "memory usage: 134.4+ MB\n"
     ]
    }
   ],
   "source": [
    "sales_train_df.info()"
   ]
  },
  {
   "cell_type": "code",
   "execution_count": 194,
   "id": "7a02e0c2",
   "metadata": {},
   "outputs": [
    {
     "data": {
      "text/html": [
       "<div>\n",
       "<style scoped>\n",
       "    .dataframe tbody tr th:only-of-type {\n",
       "        vertical-align: middle;\n",
       "    }\n",
       "\n",
       "    .dataframe tbody tr th {\n",
       "        vertical-align: top;\n",
       "    }\n",
       "\n",
       "    .dataframe thead th {\n",
       "        text-align: right;\n",
       "    }\n",
       "</style>\n",
       "<table border=\"1\" class=\"dataframe\">\n",
       "  <thead>\n",
       "    <tr style=\"text-align: right;\">\n",
       "      <th></th>\n",
       "      <th>date_block_num</th>\n",
       "      <th>shop_id</th>\n",
       "      <th>item_id</th>\n",
       "      <th>item_price</th>\n",
       "      <th>item_cnt_day</th>\n",
       "    </tr>\n",
       "  </thead>\n",
       "  <tbody>\n",
       "    <tr>\n",
       "      <th>count</th>\n",
       "      <td>2.935849e+06</td>\n",
       "      <td>2.935849e+06</td>\n",
       "      <td>2.935849e+06</td>\n",
       "      <td>2.935849e+06</td>\n",
       "      <td>2.935849e+06</td>\n",
       "    </tr>\n",
       "    <tr>\n",
       "      <th>mean</th>\n",
       "      <td>1.456991e+01</td>\n",
       "      <td>3.300173e+01</td>\n",
       "      <td>1.019723e+04</td>\n",
       "      <td>8.908532e+02</td>\n",
       "      <td>1.242641e+00</td>\n",
       "    </tr>\n",
       "    <tr>\n",
       "      <th>std</th>\n",
       "      <td>9.422988e+00</td>\n",
       "      <td>1.622697e+01</td>\n",
       "      <td>6.324297e+03</td>\n",
       "      <td>1.729800e+03</td>\n",
       "      <td>2.618834e+00</td>\n",
       "    </tr>\n",
       "    <tr>\n",
       "      <th>min</th>\n",
       "      <td>0.000000e+00</td>\n",
       "      <td>0.000000e+00</td>\n",
       "      <td>0.000000e+00</td>\n",
       "      <td>-1.000000e+00</td>\n",
       "      <td>-2.200000e+01</td>\n",
       "    </tr>\n",
       "    <tr>\n",
       "      <th>25%</th>\n",
       "      <td>7.000000e+00</td>\n",
       "      <td>2.200000e+01</td>\n",
       "      <td>4.476000e+03</td>\n",
       "      <td>2.490000e+02</td>\n",
       "      <td>1.000000e+00</td>\n",
       "    </tr>\n",
       "    <tr>\n",
       "      <th>50%</th>\n",
       "      <td>1.400000e+01</td>\n",
       "      <td>3.100000e+01</td>\n",
       "      <td>9.343000e+03</td>\n",
       "      <td>3.990000e+02</td>\n",
       "      <td>1.000000e+00</td>\n",
       "    </tr>\n",
       "    <tr>\n",
       "      <th>75%</th>\n",
       "      <td>2.300000e+01</td>\n",
       "      <td>4.700000e+01</td>\n",
       "      <td>1.568400e+04</td>\n",
       "      <td>9.990000e+02</td>\n",
       "      <td>1.000000e+00</td>\n",
       "    </tr>\n",
       "    <tr>\n",
       "      <th>max</th>\n",
       "      <td>3.300000e+01</td>\n",
       "      <td>5.900000e+01</td>\n",
       "      <td>2.216900e+04</td>\n",
       "      <td>3.079800e+05</td>\n",
       "      <td>2.169000e+03</td>\n",
       "    </tr>\n",
       "  </tbody>\n",
       "</table>\n",
       "</div>"
      ],
      "text/plain": [
       "       date_block_num       shop_id       item_id    item_price  item_cnt_day\n",
       "count    2.935849e+06  2.935849e+06  2.935849e+06  2.935849e+06  2.935849e+06\n",
       "mean     1.456991e+01  3.300173e+01  1.019723e+04  8.908532e+02  1.242641e+00\n",
       "std      9.422988e+00  1.622697e+01  6.324297e+03  1.729800e+03  2.618834e+00\n",
       "min      0.000000e+00  0.000000e+00  0.000000e+00 -1.000000e+00 -2.200000e+01\n",
       "25%      7.000000e+00  2.200000e+01  4.476000e+03  2.490000e+02  1.000000e+00\n",
       "50%      1.400000e+01  3.100000e+01  9.343000e+03  3.990000e+02  1.000000e+00\n",
       "75%      2.300000e+01  4.700000e+01  1.568400e+04  9.990000e+02  1.000000e+00\n",
       "max      3.300000e+01  5.900000e+01  2.216900e+04  3.079800e+05  2.169000e+03"
      ]
     },
     "execution_count": 194,
     "metadata": {},
     "output_type": "execute_result"
    }
   ],
   "source": [
    "sales_train_df.describe()"
   ]
  },
  {
   "cell_type": "markdown",
   "id": "97f90fac",
   "metadata": {},
   "source": [
    "# Item"
   ]
  },
  {
   "cell_type": "code",
   "execution_count": 195,
   "id": "fa666d48",
   "metadata": {},
   "outputs": [
    {
     "data": {
      "text/html": [
       "<div>\n",
       "<style scoped>\n",
       "    .dataframe tbody tr th:only-of-type {\n",
       "        vertical-align: middle;\n",
       "    }\n",
       "\n",
       "    .dataframe tbody tr th {\n",
       "        vertical-align: top;\n",
       "    }\n",
       "\n",
       "    .dataframe thead th {\n",
       "        text-align: right;\n",
       "    }\n",
       "</style>\n",
       "<table border=\"1\" class=\"dataframe\">\n",
       "  <thead>\n",
       "    <tr style=\"text-align: right;\">\n",
       "      <th></th>\n",
       "      <th>item_name</th>\n",
       "      <th>item_id</th>\n",
       "      <th>item_category_id</th>\n",
       "    </tr>\n",
       "  </thead>\n",
       "  <tbody>\n",
       "    <tr>\n",
       "      <th>0</th>\n",
       "      <td>! ВО ВЛАСТИ НАВАЖДЕНИЯ (ПЛАСТ.)         D</td>\n",
       "      <td>0</td>\n",
       "      <td>40</td>\n",
       "    </tr>\n",
       "    <tr>\n",
       "      <th>1</th>\n",
       "      <td>!ABBYY FineReader 12 Professional Edition Full...</td>\n",
       "      <td>1</td>\n",
       "      <td>76</td>\n",
       "    </tr>\n",
       "    <tr>\n",
       "      <th>2</th>\n",
       "      <td>***В ЛУЧАХ СЛАВЫ   (UNV)                    D</td>\n",
       "      <td>2</td>\n",
       "      <td>40</td>\n",
       "    </tr>\n",
       "    <tr>\n",
       "      <th>3</th>\n",
       "      <td>***ГОЛУБАЯ ВОЛНА  (Univ)                      D</td>\n",
       "      <td>3</td>\n",
       "      <td>40</td>\n",
       "    </tr>\n",
       "    <tr>\n",
       "      <th>4</th>\n",
       "      <td>***КОРОБКА (СТЕКЛО)                       D</td>\n",
       "      <td>4</td>\n",
       "      <td>40</td>\n",
       "    </tr>\n",
       "  </tbody>\n",
       "</table>\n",
       "</div>"
      ],
      "text/plain": [
       "                                           item_name  item_id  \\\n",
       "0          ! ВО ВЛАСТИ НАВАЖДЕНИЯ (ПЛАСТ.)         D        0   \n",
       "1  !ABBYY FineReader 12 Professional Edition Full...        1   \n",
       "2      ***В ЛУЧАХ СЛАВЫ   (UNV)                    D        2   \n",
       "3    ***ГОЛУБАЯ ВОЛНА  (Univ)                      D        3   \n",
       "4        ***КОРОБКА (СТЕКЛО)                       D        4   \n",
       "\n",
       "   item_category_id  \n",
       "0                40  \n",
       "1                76  \n",
       "2                40  \n",
       "3                40  \n",
       "4                40  "
      ]
     },
     "execution_count": 195,
     "metadata": {},
     "output_type": "execute_result"
    }
   ],
   "source": [
    "item_df.head()"
   ]
  },
  {
   "cell_type": "code",
   "execution_count": 196,
   "id": "4bad6697",
   "metadata": {},
   "outputs": [
    {
     "data": {
      "text/plain": [
       "(22170, 3)"
      ]
     },
     "execution_count": 196,
     "metadata": {},
     "output_type": "execute_result"
    }
   ],
   "source": [
    "item_df.shape"
   ]
  },
  {
   "cell_type": "code",
   "execution_count": 197,
   "id": "5ec87d11",
   "metadata": {},
   "outputs": [
    {
     "name": "stdout",
     "output_type": "stream",
     "text": [
      "<class 'pandas.core.frame.DataFrame'>\n",
      "RangeIndex: 22170 entries, 0 to 22169\n",
      "Data columns (total 3 columns):\n",
      " #   Column            Non-Null Count  Dtype \n",
      "---  ------            --------------  ----- \n",
      " 0   item_name         22170 non-null  object\n",
      " 1   item_id           22170 non-null  int64 \n",
      " 2   item_category_id  22170 non-null  int64 \n",
      "dtypes: int64(2), object(1)\n",
      "memory usage: 519.7+ KB\n"
     ]
    }
   ],
   "source": [
    "item_df.info()"
   ]
  },
  {
   "cell_type": "code",
   "execution_count": 198,
   "id": "86264cc4",
   "metadata": {},
   "outputs": [
    {
     "data": {
      "text/html": [
       "<div>\n",
       "<style scoped>\n",
       "    .dataframe tbody tr th:only-of-type {\n",
       "        vertical-align: middle;\n",
       "    }\n",
       "\n",
       "    .dataframe tbody tr th {\n",
       "        vertical-align: top;\n",
       "    }\n",
       "\n",
       "    .dataframe thead th {\n",
       "        text-align: right;\n",
       "    }\n",
       "</style>\n",
       "<table border=\"1\" class=\"dataframe\">\n",
       "  <thead>\n",
       "    <tr style=\"text-align: right;\">\n",
       "      <th></th>\n",
       "      <th>item_id</th>\n",
       "      <th>item_category_id</th>\n",
       "    </tr>\n",
       "  </thead>\n",
       "  <tbody>\n",
       "    <tr>\n",
       "      <th>count</th>\n",
       "      <td>22170.00000</td>\n",
       "      <td>22170.000000</td>\n",
       "    </tr>\n",
       "    <tr>\n",
       "      <th>mean</th>\n",
       "      <td>11084.50000</td>\n",
       "      <td>46.290753</td>\n",
       "    </tr>\n",
       "    <tr>\n",
       "      <th>std</th>\n",
       "      <td>6400.07207</td>\n",
       "      <td>15.941486</td>\n",
       "    </tr>\n",
       "    <tr>\n",
       "      <th>min</th>\n",
       "      <td>0.00000</td>\n",
       "      <td>0.000000</td>\n",
       "    </tr>\n",
       "    <tr>\n",
       "      <th>25%</th>\n",
       "      <td>5542.25000</td>\n",
       "      <td>37.000000</td>\n",
       "    </tr>\n",
       "    <tr>\n",
       "      <th>50%</th>\n",
       "      <td>11084.50000</td>\n",
       "      <td>40.000000</td>\n",
       "    </tr>\n",
       "    <tr>\n",
       "      <th>75%</th>\n",
       "      <td>16626.75000</td>\n",
       "      <td>58.000000</td>\n",
       "    </tr>\n",
       "    <tr>\n",
       "      <th>max</th>\n",
       "      <td>22169.00000</td>\n",
       "      <td>83.000000</td>\n",
       "    </tr>\n",
       "  </tbody>\n",
       "</table>\n",
       "</div>"
      ],
      "text/plain": [
       "           item_id  item_category_id\n",
       "count  22170.00000      22170.000000\n",
       "mean   11084.50000         46.290753\n",
       "std     6400.07207         15.941486\n",
       "min        0.00000          0.000000\n",
       "25%     5542.25000         37.000000\n",
       "50%    11084.50000         40.000000\n",
       "75%    16626.75000         58.000000\n",
       "max    22169.00000         83.000000"
      ]
     },
     "execution_count": 198,
     "metadata": {},
     "output_type": "execute_result"
    }
   ],
   "source": [
    "item_df.describe()"
   ]
  },
  {
   "cell_type": "markdown",
   "id": "16ab84cf",
   "metadata": {},
   "source": [
    "# Item category"
   ]
  },
  {
   "cell_type": "code",
   "execution_count": 199,
   "id": "21bf324a",
   "metadata": {},
   "outputs": [
    {
     "data": {
      "text/html": [
       "<div>\n",
       "<style scoped>\n",
       "    .dataframe tbody tr th:only-of-type {\n",
       "        vertical-align: middle;\n",
       "    }\n",
       "\n",
       "    .dataframe tbody tr th {\n",
       "        vertical-align: top;\n",
       "    }\n",
       "\n",
       "    .dataframe thead th {\n",
       "        text-align: right;\n",
       "    }\n",
       "</style>\n",
       "<table border=\"1\" class=\"dataframe\">\n",
       "  <thead>\n",
       "    <tr style=\"text-align: right;\">\n",
       "      <th></th>\n",
       "      <th>item_category_name</th>\n",
       "      <th>item_category_id</th>\n",
       "    </tr>\n",
       "  </thead>\n",
       "  <tbody>\n",
       "    <tr>\n",
       "      <th>0</th>\n",
       "      <td>PC - Гарнитуры/Наушники</td>\n",
       "      <td>0</td>\n",
       "    </tr>\n",
       "    <tr>\n",
       "      <th>1</th>\n",
       "      <td>Аксессуары - PS2</td>\n",
       "      <td>1</td>\n",
       "    </tr>\n",
       "    <tr>\n",
       "      <th>2</th>\n",
       "      <td>Аксессуары - PS3</td>\n",
       "      <td>2</td>\n",
       "    </tr>\n",
       "    <tr>\n",
       "      <th>3</th>\n",
       "      <td>Аксессуары - PS4</td>\n",
       "      <td>3</td>\n",
       "    </tr>\n",
       "    <tr>\n",
       "      <th>4</th>\n",
       "      <td>Аксессуары - PSP</td>\n",
       "      <td>4</td>\n",
       "    </tr>\n",
       "  </tbody>\n",
       "</table>\n",
       "</div>"
      ],
      "text/plain": [
       "        item_category_name  item_category_id\n",
       "0  PC - Гарнитуры/Наушники                 0\n",
       "1         Аксессуары - PS2                 1\n",
       "2         Аксессуары - PS3                 2\n",
       "3         Аксессуары - PS4                 3\n",
       "4         Аксессуары - PSP                 4"
      ]
     },
     "execution_count": 199,
     "metadata": {},
     "output_type": "execute_result"
    }
   ],
   "source": [
    "item_category_df.head()"
   ]
  },
  {
   "cell_type": "code",
   "execution_count": 200,
   "id": "248f85e3",
   "metadata": {},
   "outputs": [
    {
     "data": {
      "text/plain": [
       "(84, 2)"
      ]
     },
     "execution_count": 200,
     "metadata": {},
     "output_type": "execute_result"
    }
   ],
   "source": [
    "item_category_df.shape"
   ]
  },
  {
   "cell_type": "code",
   "execution_count": 201,
   "id": "27993f05",
   "metadata": {},
   "outputs": [
    {
     "name": "stdout",
     "output_type": "stream",
     "text": [
      "<class 'pandas.core.frame.DataFrame'>\n",
      "RangeIndex: 84 entries, 0 to 83\n",
      "Data columns (total 2 columns):\n",
      " #   Column              Non-Null Count  Dtype \n",
      "---  ------              --------------  ----- \n",
      " 0   item_category_name  84 non-null     object\n",
      " 1   item_category_id    84 non-null     int64 \n",
      "dtypes: int64(1), object(1)\n",
      "memory usage: 1.4+ KB\n"
     ]
    }
   ],
   "source": [
    "item_category_df.info()"
   ]
  },
  {
   "cell_type": "code",
   "execution_count": 202,
   "id": "e3100755",
   "metadata": {},
   "outputs": [
    {
     "data": {
      "text/html": [
       "<div>\n",
       "<style scoped>\n",
       "    .dataframe tbody tr th:only-of-type {\n",
       "        vertical-align: middle;\n",
       "    }\n",
       "\n",
       "    .dataframe tbody tr th {\n",
       "        vertical-align: top;\n",
       "    }\n",
       "\n",
       "    .dataframe thead th {\n",
       "        text-align: right;\n",
       "    }\n",
       "</style>\n",
       "<table border=\"1\" class=\"dataframe\">\n",
       "  <thead>\n",
       "    <tr style=\"text-align: right;\">\n",
       "      <th></th>\n",
       "      <th>item_category_id</th>\n",
       "    </tr>\n",
       "  </thead>\n",
       "  <tbody>\n",
       "    <tr>\n",
       "      <th>count</th>\n",
       "      <td>84.000000</td>\n",
       "    </tr>\n",
       "    <tr>\n",
       "      <th>mean</th>\n",
       "      <td>41.500000</td>\n",
       "    </tr>\n",
       "    <tr>\n",
       "      <th>std</th>\n",
       "      <td>24.392622</td>\n",
       "    </tr>\n",
       "    <tr>\n",
       "      <th>min</th>\n",
       "      <td>0.000000</td>\n",
       "    </tr>\n",
       "    <tr>\n",
       "      <th>25%</th>\n",
       "      <td>20.750000</td>\n",
       "    </tr>\n",
       "    <tr>\n",
       "      <th>50%</th>\n",
       "      <td>41.500000</td>\n",
       "    </tr>\n",
       "    <tr>\n",
       "      <th>75%</th>\n",
       "      <td>62.250000</td>\n",
       "    </tr>\n",
       "    <tr>\n",
       "      <th>max</th>\n",
       "      <td>83.000000</td>\n",
       "    </tr>\n",
       "  </tbody>\n",
       "</table>\n",
       "</div>"
      ],
      "text/plain": [
       "       item_category_id\n",
       "count         84.000000\n",
       "mean          41.500000\n",
       "std           24.392622\n",
       "min            0.000000\n",
       "25%           20.750000\n",
       "50%           41.500000\n",
       "75%           62.250000\n",
       "max           83.000000"
      ]
     },
     "execution_count": 202,
     "metadata": {},
     "output_type": "execute_result"
    }
   ],
   "source": [
    "item_category_df.describe()"
   ]
  },
  {
   "cell_type": "markdown",
   "id": "1c027662",
   "metadata": {},
   "source": [
    "# Shops"
   ]
  },
  {
   "cell_type": "code",
   "execution_count": 203,
   "id": "a3ec1e72",
   "metadata": {},
   "outputs": [
    {
     "data": {
      "text/html": [
       "<div>\n",
       "<style scoped>\n",
       "    .dataframe tbody tr th:only-of-type {\n",
       "        vertical-align: middle;\n",
       "    }\n",
       "\n",
       "    .dataframe tbody tr th {\n",
       "        vertical-align: top;\n",
       "    }\n",
       "\n",
       "    .dataframe thead th {\n",
       "        text-align: right;\n",
       "    }\n",
       "</style>\n",
       "<table border=\"1\" class=\"dataframe\">\n",
       "  <thead>\n",
       "    <tr style=\"text-align: right;\">\n",
       "      <th></th>\n",
       "      <th>shop_name</th>\n",
       "      <th>shop_id</th>\n",
       "    </tr>\n",
       "  </thead>\n",
       "  <tbody>\n",
       "    <tr>\n",
       "      <th>0</th>\n",
       "      <td>!Якутск Орджоникидзе, 56 фран</td>\n",
       "      <td>0</td>\n",
       "    </tr>\n",
       "    <tr>\n",
       "      <th>1</th>\n",
       "      <td>!Якутск ТЦ \"Центральный\" фран</td>\n",
       "      <td>1</td>\n",
       "    </tr>\n",
       "    <tr>\n",
       "      <th>2</th>\n",
       "      <td>Адыгея ТЦ \"Мега\"</td>\n",
       "      <td>2</td>\n",
       "    </tr>\n",
       "    <tr>\n",
       "      <th>3</th>\n",
       "      <td>Балашиха ТРК \"Октябрь-Киномир\"</td>\n",
       "      <td>3</td>\n",
       "    </tr>\n",
       "    <tr>\n",
       "      <th>4</th>\n",
       "      <td>Волжский ТЦ \"Волга Молл\"</td>\n",
       "      <td>4</td>\n",
       "    </tr>\n",
       "  </tbody>\n",
       "</table>\n",
       "</div>"
      ],
      "text/plain": [
       "                        shop_name  shop_id\n",
       "0   !Якутск Орджоникидзе, 56 фран        0\n",
       "1   !Якутск ТЦ \"Центральный\" фран        1\n",
       "2                Адыгея ТЦ \"Мега\"        2\n",
       "3  Балашиха ТРК \"Октябрь-Киномир\"        3\n",
       "4        Волжский ТЦ \"Волга Молл\"        4"
      ]
     },
     "execution_count": 203,
     "metadata": {},
     "output_type": "execute_result"
    }
   ],
   "source": [
    "shops_df.head()"
   ]
  },
  {
   "cell_type": "code",
   "execution_count": 204,
   "id": "f1780870",
   "metadata": {},
   "outputs": [
    {
     "data": {
      "text/plain": [
       "(60, 2)"
      ]
     },
     "execution_count": 204,
     "metadata": {},
     "output_type": "execute_result"
    }
   ],
   "source": [
    "shops_df.shape"
   ]
  },
  {
   "cell_type": "code",
   "execution_count": 205,
   "id": "03d8f177",
   "metadata": {},
   "outputs": [
    {
     "name": "stdout",
     "output_type": "stream",
     "text": [
      "<class 'pandas.core.frame.DataFrame'>\n",
      "RangeIndex: 60 entries, 0 to 59\n",
      "Data columns (total 2 columns):\n",
      " #   Column     Non-Null Count  Dtype \n",
      "---  ------     --------------  ----- \n",
      " 0   shop_name  60 non-null     object\n",
      " 1   shop_id    60 non-null     int64 \n",
      "dtypes: int64(1), object(1)\n",
      "memory usage: 1.1+ KB\n"
     ]
    }
   ],
   "source": [
    "shops_df.info()"
   ]
  },
  {
   "cell_type": "code",
   "execution_count": 206,
   "id": "2bb87da4",
   "metadata": {},
   "outputs": [
    {
     "data": {
      "text/html": [
       "<div>\n",
       "<style scoped>\n",
       "    .dataframe tbody tr th:only-of-type {\n",
       "        vertical-align: middle;\n",
       "    }\n",
       "\n",
       "    .dataframe tbody tr th {\n",
       "        vertical-align: top;\n",
       "    }\n",
       "\n",
       "    .dataframe thead th {\n",
       "        text-align: right;\n",
       "    }\n",
       "</style>\n",
       "<table border=\"1\" class=\"dataframe\">\n",
       "  <thead>\n",
       "    <tr style=\"text-align: right;\">\n",
       "      <th></th>\n",
       "      <th>shop_id</th>\n",
       "    </tr>\n",
       "  </thead>\n",
       "  <tbody>\n",
       "    <tr>\n",
       "      <th>count</th>\n",
       "      <td>60.000000</td>\n",
       "    </tr>\n",
       "    <tr>\n",
       "      <th>mean</th>\n",
       "      <td>29.500000</td>\n",
       "    </tr>\n",
       "    <tr>\n",
       "      <th>std</th>\n",
       "      <td>17.464249</td>\n",
       "    </tr>\n",
       "    <tr>\n",
       "      <th>min</th>\n",
       "      <td>0.000000</td>\n",
       "    </tr>\n",
       "    <tr>\n",
       "      <th>25%</th>\n",
       "      <td>14.750000</td>\n",
       "    </tr>\n",
       "    <tr>\n",
       "      <th>50%</th>\n",
       "      <td>29.500000</td>\n",
       "    </tr>\n",
       "    <tr>\n",
       "      <th>75%</th>\n",
       "      <td>44.250000</td>\n",
       "    </tr>\n",
       "    <tr>\n",
       "      <th>max</th>\n",
       "      <td>59.000000</td>\n",
       "    </tr>\n",
       "  </tbody>\n",
       "</table>\n",
       "</div>"
      ],
      "text/plain": [
       "         shop_id\n",
       "count  60.000000\n",
       "mean   29.500000\n",
       "std    17.464249\n",
       "min     0.000000\n",
       "25%    14.750000\n",
       "50%    29.500000\n",
       "75%    44.250000\n",
       "max    59.000000"
      ]
     },
     "execution_count": 206,
     "metadata": {},
     "output_type": "execute_result"
    }
   ],
   "source": [
    "shops_df.describe()"
   ]
  },
  {
   "cell_type": "markdown",
   "id": "d5aa2619",
   "metadata": {},
   "source": [
    "# Test "
   ]
  },
  {
   "cell_type": "code",
   "execution_count": 207,
   "id": "43213ac8",
   "metadata": {},
   "outputs": [
    {
     "data": {
      "text/html": [
       "<div>\n",
       "<style scoped>\n",
       "    .dataframe tbody tr th:only-of-type {\n",
       "        vertical-align: middle;\n",
       "    }\n",
       "\n",
       "    .dataframe tbody tr th {\n",
       "        vertical-align: top;\n",
       "    }\n",
       "\n",
       "    .dataframe thead th {\n",
       "        text-align: right;\n",
       "    }\n",
       "</style>\n",
       "<table border=\"1\" class=\"dataframe\">\n",
       "  <thead>\n",
       "    <tr style=\"text-align: right;\">\n",
       "      <th></th>\n",
       "      <th>ID</th>\n",
       "      <th>shop_id</th>\n",
       "      <th>item_id</th>\n",
       "    </tr>\n",
       "  </thead>\n",
       "  <tbody>\n",
       "    <tr>\n",
       "      <th>0</th>\n",
       "      <td>0</td>\n",
       "      <td>5</td>\n",
       "      <td>5037</td>\n",
       "    </tr>\n",
       "    <tr>\n",
       "      <th>1</th>\n",
       "      <td>1</td>\n",
       "      <td>5</td>\n",
       "      <td>5320</td>\n",
       "    </tr>\n",
       "    <tr>\n",
       "      <th>2</th>\n",
       "      <td>2</td>\n",
       "      <td>5</td>\n",
       "      <td>5233</td>\n",
       "    </tr>\n",
       "    <tr>\n",
       "      <th>3</th>\n",
       "      <td>3</td>\n",
       "      <td>5</td>\n",
       "      <td>5232</td>\n",
       "    </tr>\n",
       "    <tr>\n",
       "      <th>4</th>\n",
       "      <td>4</td>\n",
       "      <td>5</td>\n",
       "      <td>5268</td>\n",
       "    </tr>\n",
       "  </tbody>\n",
       "</table>\n",
       "</div>"
      ],
      "text/plain": [
       "   ID  shop_id  item_id\n",
       "0   0        5     5037\n",
       "1   1        5     5320\n",
       "2   2        5     5233\n",
       "3   3        5     5232\n",
       "4   4        5     5268"
      ]
     },
     "execution_count": 207,
     "metadata": {},
     "output_type": "execute_result"
    }
   ],
   "source": [
    "test_df.head()"
   ]
  },
  {
   "cell_type": "code",
   "execution_count": 208,
   "id": "22081738",
   "metadata": {},
   "outputs": [
    {
     "data": {
      "text/plain": [
       "(214200, 3)"
      ]
     },
     "execution_count": 208,
     "metadata": {},
     "output_type": "execute_result"
    }
   ],
   "source": [
    "test_df.shape"
   ]
  },
  {
   "cell_type": "code",
   "execution_count": 209,
   "id": "63eca50d",
   "metadata": {},
   "outputs": [
    {
     "name": "stdout",
     "output_type": "stream",
     "text": [
      "<class 'pandas.core.frame.DataFrame'>\n",
      "RangeIndex: 214200 entries, 0 to 214199\n",
      "Data columns (total 3 columns):\n",
      " #   Column   Non-Null Count   Dtype\n",
      "---  ------   --------------   -----\n",
      " 0   ID       214200 non-null  int64\n",
      " 1   shop_id  214200 non-null  int64\n",
      " 2   item_id  214200 non-null  int64\n",
      "dtypes: int64(3)\n",
      "memory usage: 4.9 MB\n"
     ]
    }
   ],
   "source": [
    "test_df.info()"
   ]
  },
  {
   "cell_type": "markdown",
   "id": "debacc20",
   "metadata": {},
   "source": [
    "# Merge train data"
   ]
  },
  {
   "cell_type": "code",
   "execution_count": 210,
   "id": "6db9fda1",
   "metadata": {},
   "outputs": [],
   "source": [
    "item_and_category = item_df.copy(deep=True)\n",
    "item_and_category = item_and_category.merge(item_category_df, on='item_category_id', how = 'left')\n",
    "\n",
    "united_train_data = sales_train_df.copy(deep=True)\n",
    "united_train_data = united_train_data.merge(shops_df, on = 'shop_id', how = 'left')\n",
    "united_train_data = united_train_data.merge(item_and_category, on = 'item_id')"
   ]
  },
  {
   "cell_type": "code",
   "execution_count": 211,
   "id": "47d4f96e",
   "metadata": {},
   "outputs": [
    {
     "data": {
      "text/html": [
       "<div>\n",
       "<style scoped>\n",
       "    .dataframe tbody tr th:only-of-type {\n",
       "        vertical-align: middle;\n",
       "    }\n",
       "\n",
       "    .dataframe tbody tr th {\n",
       "        vertical-align: top;\n",
       "    }\n",
       "\n",
       "    .dataframe thead th {\n",
       "        text-align: right;\n",
       "    }\n",
       "</style>\n",
       "<table border=\"1\" class=\"dataframe\">\n",
       "  <thead>\n",
       "    <tr style=\"text-align: right;\">\n",
       "      <th></th>\n",
       "      <th>date</th>\n",
       "      <th>date_block_num</th>\n",
       "      <th>shop_id</th>\n",
       "      <th>item_id</th>\n",
       "      <th>item_price</th>\n",
       "      <th>item_cnt_day</th>\n",
       "      <th>shop_name</th>\n",
       "      <th>item_name</th>\n",
       "      <th>item_category_id</th>\n",
       "      <th>item_category_name</th>\n",
       "    </tr>\n",
       "  </thead>\n",
       "  <tbody>\n",
       "    <tr>\n",
       "      <th>0</th>\n",
       "      <td>02.01.2013</td>\n",
       "      <td>0</td>\n",
       "      <td>59</td>\n",
       "      <td>22154</td>\n",
       "      <td>999.0</td>\n",
       "      <td>1.0</td>\n",
       "      <td>Ярославль ТЦ \"Альтаир\"</td>\n",
       "      <td>ЯВЛЕНИЕ 2012 (BD)</td>\n",
       "      <td>37</td>\n",
       "      <td>Кино - Blu-Ray</td>\n",
       "    </tr>\n",
       "    <tr>\n",
       "      <th>1</th>\n",
       "      <td>23.01.2013</td>\n",
       "      <td>0</td>\n",
       "      <td>24</td>\n",
       "      <td>22154</td>\n",
       "      <td>999.0</td>\n",
       "      <td>1.0</td>\n",
       "      <td>Москва ТК \"Буденовский\" (пав.К7)</td>\n",
       "      <td>ЯВЛЕНИЕ 2012 (BD)</td>\n",
       "      <td>37</td>\n",
       "      <td>Кино - Blu-Ray</td>\n",
       "    </tr>\n",
       "    <tr>\n",
       "      <th>2</th>\n",
       "      <td>20.01.2013</td>\n",
       "      <td>0</td>\n",
       "      <td>27</td>\n",
       "      <td>22154</td>\n",
       "      <td>999.0</td>\n",
       "      <td>1.0</td>\n",
       "      <td>Москва ТЦ \"МЕГА Белая Дача II\"</td>\n",
       "      <td>ЯВЛЕНИЕ 2012 (BD)</td>\n",
       "      <td>37</td>\n",
       "      <td>Кино - Blu-Ray</td>\n",
       "    </tr>\n",
       "    <tr>\n",
       "      <th>3</th>\n",
       "      <td>02.01.2013</td>\n",
       "      <td>0</td>\n",
       "      <td>25</td>\n",
       "      <td>22154</td>\n",
       "      <td>999.0</td>\n",
       "      <td>1.0</td>\n",
       "      <td>Москва ТРК \"Атриум\"</td>\n",
       "      <td>ЯВЛЕНИЕ 2012 (BD)</td>\n",
       "      <td>37</td>\n",
       "      <td>Кино - Blu-Ray</td>\n",
       "    </tr>\n",
       "    <tr>\n",
       "      <th>4</th>\n",
       "      <td>03.01.2013</td>\n",
       "      <td>0</td>\n",
       "      <td>25</td>\n",
       "      <td>22154</td>\n",
       "      <td>999.0</td>\n",
       "      <td>1.0</td>\n",
       "      <td>Москва ТРК \"Атриум\"</td>\n",
       "      <td>ЯВЛЕНИЕ 2012 (BD)</td>\n",
       "      <td>37</td>\n",
       "      <td>Кино - Blu-Ray</td>\n",
       "    </tr>\n",
       "    <tr>\n",
       "      <th>...</th>\n",
       "      <td>...</td>\n",
       "      <td>...</td>\n",
       "      <td>...</td>\n",
       "      <td>...</td>\n",
       "      <td>...</td>\n",
       "      <td>...</td>\n",
       "      <td>...</td>\n",
       "      <td>...</td>\n",
       "      <td>...</td>\n",
       "      <td>...</td>\n",
       "    </tr>\n",
       "    <tr>\n",
       "      <th>2935844</th>\n",
       "      <td>17.10.2015</td>\n",
       "      <td>33</td>\n",
       "      <td>25</td>\n",
       "      <td>8428</td>\n",
       "      <td>249.0</td>\n",
       "      <td>1.0</td>\n",
       "      <td>Москва ТРК \"Атриум\"</td>\n",
       "      <td>АХ, ВОДЕВИЛЬ, ВОДЕВИЛЬ (rem)</td>\n",
       "      <td>40</td>\n",
       "      <td>Кино - DVD</td>\n",
       "    </tr>\n",
       "    <tr>\n",
       "      <th>2935845</th>\n",
       "      <td>01.10.2015</td>\n",
       "      <td>33</td>\n",
       "      <td>25</td>\n",
       "      <td>7903</td>\n",
       "      <td>12198.0</td>\n",
       "      <td>1.0</td>\n",
       "      <td>Москва ТРК \"Атриум\"</td>\n",
       "      <td>XBOX 360 S 250GB CONSOLE/KINECT BUNDLE KUNG FU...</td>\n",
       "      <td>15</td>\n",
       "      <td>Игровые консоли - XBOX 360</td>\n",
       "    </tr>\n",
       "    <tr>\n",
       "      <th>2935846</th>\n",
       "      <td>29.10.2015</td>\n",
       "      <td>33</td>\n",
       "      <td>25</td>\n",
       "      <td>7610</td>\n",
       "      <td>2890.0</td>\n",
       "      <td>1.0</td>\n",
       "      <td>Москва ТРК \"Атриум\"</td>\n",
       "      <td>WARHAMMER ACCESSORIES: Khorne Dice арт. 65-13</td>\n",
       "      <td>64</td>\n",
       "      <td>Подарки - Настольные игры</td>\n",
       "    </tr>\n",
       "    <tr>\n",
       "      <th>2935847</th>\n",
       "      <td>22.10.2015</td>\n",
       "      <td>33</td>\n",
       "      <td>25</td>\n",
       "      <td>7635</td>\n",
       "      <td>2100.0</td>\n",
       "      <td>1.0</td>\n",
       "      <td>Москва ТРК \"Атриум\"</td>\n",
       "      <td>WARHAMMER MINIATURES: Dark Elf Doomfire Warloc...</td>\n",
       "      <td>64</td>\n",
       "      <td>Подарки - Настольные игры</td>\n",
       "    </tr>\n",
       "    <tr>\n",
       "      <th>2935848</th>\n",
       "      <td>01.10.2015</td>\n",
       "      <td>33</td>\n",
       "      <td>25</td>\n",
       "      <td>7640</td>\n",
       "      <td>4040.0</td>\n",
       "      <td>1.0</td>\n",
       "      <td>Москва ТРК \"Атриум\"</td>\n",
       "      <td>WARHAMMER MINIATURES: Stormcast Eternals Palad...</td>\n",
       "      <td>64</td>\n",
       "      <td>Подарки - Настольные игры</td>\n",
       "    </tr>\n",
       "  </tbody>\n",
       "</table>\n",
       "<p>2935849 rows × 10 columns</p>\n",
       "</div>"
      ],
      "text/plain": [
       "               date  date_block_num  shop_id  item_id  item_price  \\\n",
       "0        02.01.2013               0       59    22154       999.0   \n",
       "1        23.01.2013               0       24    22154       999.0   \n",
       "2        20.01.2013               0       27    22154       999.0   \n",
       "3        02.01.2013               0       25    22154       999.0   \n",
       "4        03.01.2013               0       25    22154       999.0   \n",
       "...             ...             ...      ...      ...         ...   \n",
       "2935844  17.10.2015              33       25     8428       249.0   \n",
       "2935845  01.10.2015              33       25     7903     12198.0   \n",
       "2935846  29.10.2015              33       25     7610      2890.0   \n",
       "2935847  22.10.2015              33       25     7635      2100.0   \n",
       "2935848  01.10.2015              33       25     7640      4040.0   \n",
       "\n",
       "         item_cnt_day                         shop_name  \\\n",
       "0                 1.0            Ярославль ТЦ \"Альтаир\"   \n",
       "1                 1.0  Москва ТК \"Буденовский\" (пав.К7)   \n",
       "2                 1.0    Москва ТЦ \"МЕГА Белая Дача II\"   \n",
       "3                 1.0               Москва ТРК \"Атриум\"   \n",
       "4                 1.0               Москва ТРК \"Атриум\"   \n",
       "...               ...                               ...   \n",
       "2935844           1.0               Москва ТРК \"Атриум\"   \n",
       "2935845           1.0               Москва ТРК \"Атриум\"   \n",
       "2935846           1.0               Москва ТРК \"Атриум\"   \n",
       "2935847           1.0               Москва ТРК \"Атриум\"   \n",
       "2935848           1.0               Москва ТРК \"Атриум\"   \n",
       "\n",
       "                                                 item_name  item_category_id  \\\n",
       "0                                        ЯВЛЕНИЕ 2012 (BD)                37   \n",
       "1                                        ЯВЛЕНИЕ 2012 (BD)                37   \n",
       "2                                        ЯВЛЕНИЕ 2012 (BD)                37   \n",
       "3                                        ЯВЛЕНИЕ 2012 (BD)                37   \n",
       "4                                        ЯВЛЕНИЕ 2012 (BD)                37   \n",
       "...                                                    ...               ...   \n",
       "2935844                       АХ, ВОДЕВИЛЬ, ВОДЕВИЛЬ (rem)                40   \n",
       "2935845  XBOX 360 S 250GB CONSOLE/KINECT BUNDLE KUNG FU...                15   \n",
       "2935846      WARHAMMER ACCESSORIES: Khorne Dice арт. 65-13                64   \n",
       "2935847  WARHAMMER MINIATURES: Dark Elf Doomfire Warloc...                64   \n",
       "2935848  WARHAMMER MINIATURES: Stormcast Eternals Palad...                64   \n",
       "\n",
       "                 item_category_name  \n",
       "0                    Кино - Blu-Ray  \n",
       "1                    Кино - Blu-Ray  \n",
       "2                    Кино - Blu-Ray  \n",
       "3                    Кино - Blu-Ray  \n",
       "4                    Кино - Blu-Ray  \n",
       "...                             ...  \n",
       "2935844                  Кино - DVD  \n",
       "2935845  Игровые консоли - XBOX 360  \n",
       "2935846   Подарки - Настольные игры  \n",
       "2935847   Подарки - Настольные игры  \n",
       "2935848   Подарки - Настольные игры  \n",
       "\n",
       "[2935849 rows x 10 columns]"
      ]
     },
     "execution_count": 211,
     "metadata": {},
     "output_type": "execute_result"
    }
   ],
   "source": [
    "united_train_data"
   ]
  },
  {
   "cell_type": "markdown",
   "id": "cca1d44e",
   "metadata": {},
   "source": [
    "# Numeric / object comlumns"
   ]
  },
  {
   "cell_type": "code",
   "execution_count": 212,
   "id": "372eaecd",
   "metadata": {},
   "outputs": [
    {
     "name": "stdout",
     "output_type": "stream",
     "text": [
      "Index(['date_block_num', 'shop_id', 'item_id', 'item_price', 'item_cnt_day',\n",
      "       'item_category_id'],\n",
      "      dtype='object')\n",
      "Index(['date', 'shop_name', 'item_name', 'item_category_name'], dtype='object')\n"
     ]
    },
    {
     "data": {
      "text/plain": [
       "Index(['date', 'shop_name', 'item_name', 'item_category_name'], dtype='object')"
      ]
     },
     "execution_count": 212,
     "metadata": {},
     "output_type": "execute_result"
    }
   ],
   "source": [
    "get_numeric_columns(united_train_data)\n",
    "get_object_columns(united_train_data)"
   ]
  },
  {
   "cell_type": "markdown",
   "id": "3fc97772",
   "metadata": {},
   "source": [
    "# Missings in records"
   ]
  },
  {
   "cell_type": "code",
   "execution_count": 213,
   "id": "61e8506b",
   "metadata": {},
   "outputs": [
    {
     "data": {
      "text/plain": [
       "date                  0\n",
       "date_block_num        0\n",
       "shop_id               0\n",
       "item_id               0\n",
       "item_price            0\n",
       "item_cnt_day          0\n",
       "shop_name             0\n",
       "item_name             0\n",
       "item_category_id      0\n",
       "item_category_name    0\n",
       "dtype: int64"
      ]
     },
     "execution_count": 213,
     "metadata": {},
     "output_type": "execute_result"
    }
   ],
   "source": [
    "united_train_data.isnull().sum()"
   ]
  },
  {
   "cell_type": "markdown",
   "id": "3bf97985",
   "metadata": {},
   "source": [
    "# Numeric data split to explore\n",
    "1. Shop_id, item_id, item_cat - Representation in train\n",
    "2. Item_price, item_cnt_day - Outliers, zeros, negative values"
   ]
  },
  {
   "cell_type": "markdown",
   "id": "5a5aed8a",
   "metadata": {},
   "source": [
    "# 1. Representation shops, items and categories in train df"
   ]
  },
  {
   "cell_type": "markdown",
   "id": "48b441d0",
   "metadata": {},
   "source": [
    "# Shop_id"
   ]
  },
  {
   "cell_type": "code",
   "execution_count": 214,
   "id": "9bdaf61b",
   "metadata": {},
   "outputs": [
    {
     "name": "stdout",
     "output_type": "stream",
     "text": [
      "All the unique values represented in data\n"
     ]
    }
   ],
   "source": [
    "data_representation(shops_df, 'shop_id')"
   ]
  },
  {
   "cell_type": "markdown",
   "id": "4f256bed",
   "metadata": {},
   "source": [
    "# item_id"
   ]
  },
  {
   "cell_type": "code",
   "execution_count": 215,
   "id": "1b5cb821",
   "metadata": {},
   "outputs": [
    {
     "name": "stdout",
     "output_type": "stream",
     "text": [
      "All the unique values represented in data\n"
     ]
    }
   ],
   "source": [
    "data_representation(item_df, 'item_id')"
   ]
  },
  {
   "cell_type": "markdown",
   "id": "76153a3f",
   "metadata": {},
   "source": [
    "# item_cat"
   ]
  },
  {
   "cell_type": "code",
   "execution_count": 216,
   "id": "fc717dcd",
   "metadata": {},
   "outputs": [
    {
     "name": "stdout",
     "output_type": "stream",
     "text": [
      "All the unique values represented in data\n"
     ]
    }
   ],
   "source": [
    "data_representation(item_category_df, 'item_category_id')"
   ]
  },
  {
   "cell_type": "markdown",
   "id": "7e5a1f7a",
   "metadata": {},
   "source": [
    "# 2. Outliers, zeros, negative values in item_price and item_cnt_day"
   ]
  },
  {
   "cell_type": "markdown",
   "id": "4b3751d4",
   "metadata": {},
   "source": [
    "# 2.1.1 item_cnt_day - Outliers"
   ]
  },
  {
   "cell_type": "code",
   "execution_count": 217,
   "id": "984be65d",
   "metadata": {},
   "outputs": [
    {
     "data": {
      "text/plain": [
       "<AxesSubplot: xlabel='item_cnt_day'>"
      ]
     },
     "execution_count": 217,
     "metadata": {},
     "output_type": "execute_result"
    },
    {
     "data": {
      "image/png": "[encoded data removed]",
      "text/plain": [
       "<Figure size 640x480 with 1 Axes>"
      ]
     },
     "metadata": {},
     "output_type": "display_data"
    }
   ],
   "source": [
    "sns.boxplot(x=united_train_data['item_cnt_day'])"
   ]
  },
  {
   "cell_type": "code",
   "execution_count": 218,
   "id": "4e309600",
   "metadata": {},
   "outputs": [
    {
     "data": {
      "text/html": [
       "<div>\n",
       "<style scoped>\n",
       "    .dataframe tbody tr th:only-of-type {\n",
       "        vertical-align: middle;\n",
       "    }\n",
       "\n",
       "    .dataframe tbody tr th {\n",
       "        vertical-align: top;\n",
       "    }\n",
       "\n",
       "    .dataframe thead th {\n",
       "        text-align: right;\n",
       "    }\n",
       "</style>\n",
       "<table border=\"1\" class=\"dataframe\">\n",
       "  <thead>\n",
       "    <tr style=\"text-align: right;\">\n",
       "      <th></th>\n",
       "      <th>date</th>\n",
       "      <th>date_block_num</th>\n",
       "      <th>shop_id</th>\n",
       "      <th>item_id</th>\n",
       "      <th>item_price</th>\n",
       "      <th>item_cnt_day</th>\n",
       "      <th>shop_name</th>\n",
       "      <th>item_name</th>\n",
       "      <th>item_category_id</th>\n",
       "      <th>item_category_name</th>\n",
       "    </tr>\n",
       "  </thead>\n",
       "  <tbody>\n",
       "    <tr>\n",
       "      <th>1181188</th>\n",
       "      <td>28.10.2015</td>\n",
       "      <td>33</td>\n",
       "      <td>12</td>\n",
       "      <td>11373</td>\n",
       "      <td>0.908714</td>\n",
       "      <td>2169.0</td>\n",
       "      <td>Интернет-магазин ЧС</td>\n",
       "      <td>Доставка до пункта выдачи (Boxberry)</td>\n",
       "      <td>9</td>\n",
       "      <td>Доставка товара</td>\n",
       "    </tr>\n",
       "    <tr>\n",
       "      <th>1494614</th>\n",
       "      <td>15.01.2015</td>\n",
       "      <td>24</td>\n",
       "      <td>12</td>\n",
       "      <td>20949</td>\n",
       "      <td>4.000000</td>\n",
       "      <td>1000.0</td>\n",
       "      <td>Интернет-магазин ЧС</td>\n",
       "      <td>Фирменный пакет майка 1С Интерес белый (34*42)...</td>\n",
       "      <td>71</td>\n",
       "      <td>Подарки - Сумки, Альбомы, Коврики д/мыши</td>\n",
       "    </tr>\n",
       "  </tbody>\n",
       "</table>\n",
       "</div>"
      ],
      "text/plain": [
       "               date  date_block_num  shop_id  item_id  item_price  \\\n",
       "1181188  28.10.2015              33       12    11373    0.908714   \n",
       "1494614  15.01.2015              24       12    20949    4.000000   \n",
       "\n",
       "         item_cnt_day            shop_name  \\\n",
       "1181188        2169.0  Интернет-магазин ЧС   \n",
       "1494614        1000.0  Интернет-магазин ЧС   \n",
       "\n",
       "                                                 item_name  item_category_id  \\\n",
       "1181188               Доставка до пункта выдачи (Boxberry)                 9   \n",
       "1494614  Фирменный пакет майка 1С Интерес белый (34*42)...                71   \n",
       "\n",
       "                               item_category_name  \n",
       "1181188                           Доставка товара  \n",
       "1494614  Подарки - Сумки, Альбомы, Коврики д/мыши  "
      ]
     },
     "execution_count": 218,
     "metadata": {},
     "output_type": "execute_result"
    }
   ],
   "source": [
    "united_train_data[united_train_data['item_cnt_day'] > 900]"
   ]
  },
  {
   "cell_type": "markdown",
   "id": "da8872ec",
   "metadata": {},
   "source": [
    "# 2.1.2 item_cnt_day - zeros"
   ]
  },
  {
   "cell_type": "code",
   "execution_count": 219,
   "id": "30cb95c8",
   "metadata": {},
   "outputs": [
    {
     "data": {
      "text/html": [
       "<div>\n",
       "<style scoped>\n",
       "    .dataframe tbody tr th:only-of-type {\n",
       "        vertical-align: middle;\n",
       "    }\n",
       "\n",
       "    .dataframe tbody tr th {\n",
       "        vertical-align: top;\n",
       "    }\n",
       "\n",
       "    .dataframe thead th {\n",
       "        text-align: right;\n",
       "    }\n",
       "</style>\n",
       "<table border=\"1\" class=\"dataframe\">\n",
       "  <thead>\n",
       "    <tr style=\"text-align: right;\">\n",
       "      <th></th>\n",
       "      <th>date</th>\n",
       "      <th>date_block_num</th>\n",
       "      <th>shop_id</th>\n",
       "      <th>item_id</th>\n",
       "      <th>item_price</th>\n",
       "      <th>item_cnt_day</th>\n",
       "      <th>shop_name</th>\n",
       "      <th>item_name</th>\n",
       "      <th>item_category_id</th>\n",
       "      <th>item_category_name</th>\n",
       "    </tr>\n",
       "  </thead>\n",
       "  <tbody>\n",
       "  </tbody>\n",
       "</table>\n",
       "</div>"
      ],
      "text/plain": [
       "Empty DataFrame\n",
       "Columns: [date, date_block_num, shop_id, item_id, item_price, item_cnt_day, shop_name, item_name, item_category_id, item_category_name]\n",
       "Index: []"
      ]
     },
     "execution_count": 219,
     "metadata": {},
     "output_type": "execute_result"
    }
   ],
   "source": [
    "united_train_data[united_train_data['item_cnt_day'] == 0]"
   ]
  },
  {
   "cell_type": "markdown",
   "id": "e1e0919c",
   "metadata": {},
   "source": [
    "# 2.1.3 item_cnt_day - Negative values"
   ]
  },
  {
   "cell_type": "code",
   "execution_count": 220,
   "id": "40f91789",
   "metadata": {},
   "outputs": [
    {
     "data": {
      "text/html": [
       "<div>\n",
       "<style scoped>\n",
       "    .dataframe tbody tr th:only-of-type {\n",
       "        vertical-align: middle;\n",
       "    }\n",
       "\n",
       "    .dataframe tbody tr th {\n",
       "        vertical-align: top;\n",
       "    }\n",
       "\n",
       "    .dataframe thead th {\n",
       "        text-align: right;\n",
       "    }\n",
       "</style>\n",
       "<table border=\"1\" class=\"dataframe\">\n",
       "  <thead>\n",
       "    <tr style=\"text-align: right;\">\n",
       "      <th></th>\n",
       "      <th>date</th>\n",
       "      <th>date_block_num</th>\n",
       "      <th>shop_id</th>\n",
       "      <th>item_id</th>\n",
       "      <th>item_price</th>\n",
       "      <th>item_cnt_day</th>\n",
       "      <th>shop_name</th>\n",
       "      <th>item_name</th>\n",
       "      <th>item_category_id</th>\n",
       "      <th>item_category_name</th>\n",
       "    </tr>\n",
       "  </thead>\n",
       "  <tbody>\n",
       "    <tr>\n",
       "      <th>60</th>\n",
       "      <td>05.01.2013</td>\n",
       "      <td>0</td>\n",
       "      <td>25</td>\n",
       "      <td>2552</td>\n",
       "      <td>899.0</td>\n",
       "      <td>-1.0</td>\n",
       "      <td>Москва ТРК \"Атриум\"</td>\n",
       "      <td>DEEP PURPLE  The House Of Blue Light  LP</td>\n",
       "      <td>58</td>\n",
       "      <td>Музыка - Винил</td>\n",
       "    </tr>\n",
       "    <tr>\n",
       "      <th>64</th>\n",
       "      <td>14.05.2013</td>\n",
       "      <td>4</td>\n",
       "      <td>6</td>\n",
       "      <td>2552</td>\n",
       "      <td>949.0</td>\n",
       "      <td>-1.0</td>\n",
       "      <td>Воронеж (Плехановская, 13)</td>\n",
       "      <td>DEEP PURPLE  The House Of Blue Light  LP</td>\n",
       "      <td>58</td>\n",
       "      <td>Музыка - Винил</td>\n",
       "    </tr>\n",
       "    <tr>\n",
       "      <th>1985</th>\n",
       "      <td>07.07.2014</td>\n",
       "      <td>18</td>\n",
       "      <td>31</td>\n",
       "      <td>2574</td>\n",
       "      <td>399.0</td>\n",
       "      <td>-1.0</td>\n",
       "      <td>Москва ТЦ \"Семеновский\"</td>\n",
       "      <td>DEL REY LANA  Born To Die  The Paradise Editio...</td>\n",
       "      <td>55</td>\n",
       "      <td>Музыка - CD локального производства</td>\n",
       "    </tr>\n",
       "    <tr>\n",
       "      <th>2543</th>\n",
       "      <td>26.06.2015</td>\n",
       "      <td>29</td>\n",
       "      <td>16</td>\n",
       "      <td>2574</td>\n",
       "      <td>449.0</td>\n",
       "      <td>-1.0</td>\n",
       "      <td>Коломна ТЦ \"Рио\"</td>\n",
       "      <td>DEL REY LANA  Born To Die  The Paradise Editio...</td>\n",
       "      <td>55</td>\n",
       "      <td>Музыка - CD локального производства</td>\n",
       "    </tr>\n",
       "    <tr>\n",
       "      <th>2557</th>\n",
       "      <td>11.07.2015</td>\n",
       "      <td>30</td>\n",
       "      <td>42</td>\n",
       "      <td>2574</td>\n",
       "      <td>449.0</td>\n",
       "      <td>-1.0</td>\n",
       "      <td>СПб ТК \"Невский Центр\"</td>\n",
       "      <td>DEL REY LANA  Born To Die  The Paradise Editio...</td>\n",
       "      <td>55</td>\n",
       "      <td>Музыка - CD локального производства</td>\n",
       "    </tr>\n",
       "    <tr>\n",
       "      <th>...</th>\n",
       "      <td>...</td>\n",
       "      <td>...</td>\n",
       "      <td>...</td>\n",
       "      <td>...</td>\n",
       "      <td>...</td>\n",
       "      <td>...</td>\n",
       "      <td>...</td>\n",
       "      <td>...</td>\n",
       "      <td>...</td>\n",
       "      <td>...</td>\n",
       "    </tr>\n",
       "    <tr>\n",
       "      <th>2934862</th>\n",
       "      <td>25.10.2015</td>\n",
       "      <td>33</td>\n",
       "      <td>48</td>\n",
       "      <td>5908</td>\n",
       "      <td>3199.0</td>\n",
       "      <td>-1.0</td>\n",
       "      <td>Томск ТРЦ \"Изумрудный Город\"</td>\n",
       "      <td>Pro Evolution Soccer 2016 [Xbox 360, русские с...</td>\n",
       "      <td>23</td>\n",
       "      <td>Игры - XBOX 360</td>\n",
       "    </tr>\n",
       "    <tr>\n",
       "      <th>2935309</th>\n",
       "      <td>31.10.2015</td>\n",
       "      <td>33</td>\n",
       "      <td>47</td>\n",
       "      <td>4056</td>\n",
       "      <td>2999.0</td>\n",
       "      <td>-1.0</td>\n",
       "      <td>Сургут ТРЦ \"Сити Молл\"</td>\n",
       "      <td>Just Dance 2016. Unlimited [Xbox One, русская ...</td>\n",
       "      <td>24</td>\n",
       "      <td>Игры - XBOX ONE</td>\n",
       "    </tr>\n",
       "    <tr>\n",
       "      <th>2935585</th>\n",
       "      <td>14.10.2015</td>\n",
       "      <td>33</td>\n",
       "      <td>9</td>\n",
       "      <td>18103</td>\n",
       "      <td>3799.0</td>\n",
       "      <td>-1.0</td>\n",
       "      <td>Выездная Торговля</td>\n",
       "      <td>Рюкзак Batman With Logo с капюшоном</td>\n",
       "      <td>61</td>\n",
       "      <td>Подарки - Атрибутика</td>\n",
       "    </tr>\n",
       "    <tr>\n",
       "      <th>2935731</th>\n",
       "      <td>04.10.2015</td>\n",
       "      <td>33</td>\n",
       "      <td>9</td>\n",
       "      <td>21036</td>\n",
       "      <td>1899.0</td>\n",
       "      <td>-1.0</td>\n",
       "      <td>Выездная Торговля</td>\n",
       "      <td>Футболка Bloodborne Bossfight White L</td>\n",
       "      <td>61</td>\n",
       "      <td>Подарки - Атрибутика</td>\n",
       "    </tr>\n",
       "    <tr>\n",
       "      <th>2935837</th>\n",
       "      <td>05.10.2015</td>\n",
       "      <td>33</td>\n",
       "      <td>25</td>\n",
       "      <td>13476</td>\n",
       "      <td>7998.0</td>\n",
       "      <td>-1.0</td>\n",
       "      <td>Москва ТРК \"Атриум\"</td>\n",
       "      <td>Комплект «Sony PS3 (320 Gb) (CECH-2508B)» + иг...</td>\n",
       "      <td>11</td>\n",
       "      <td>Игровые консоли - PS3</td>\n",
       "    </tr>\n",
       "  </tbody>\n",
       "</table>\n",
       "<p>7356 rows × 10 columns</p>\n",
       "</div>"
      ],
      "text/plain": [
       "               date  date_block_num  shop_id  item_id  item_price  \\\n",
       "60       05.01.2013               0       25     2552       899.0   \n",
       "64       14.05.2013               4        6     2552       949.0   \n",
       "1985     07.07.2014              18       31     2574       399.0   \n",
       "2543     26.06.2015              29       16     2574       449.0   \n",
       "2557     11.07.2015              30       42     2574       449.0   \n",
       "...             ...             ...      ...      ...         ...   \n",
       "2934862  25.10.2015              33       48     5908      3199.0   \n",
       "2935309  31.10.2015              33       47     4056      2999.0   \n",
       "2935585  14.10.2015              33        9    18103      3799.0   \n",
       "2935731  04.10.2015              33        9    21036      1899.0   \n",
       "2935837  05.10.2015              33       25    13476      7998.0   \n",
       "\n",
       "         item_cnt_day                     shop_name  \\\n",
       "60               -1.0           Москва ТРК \"Атриум\"   \n",
       "64               -1.0    Воронеж (Плехановская, 13)   \n",
       "1985             -1.0       Москва ТЦ \"Семеновский\"   \n",
       "2543             -1.0              Коломна ТЦ \"Рио\"   \n",
       "2557             -1.0        СПб ТК \"Невский Центр\"   \n",
       "...               ...                           ...   \n",
       "2934862          -1.0  Томск ТРЦ \"Изумрудный Город\"   \n",
       "2935309          -1.0        Сургут ТРЦ \"Сити Молл\"   \n",
       "2935585          -1.0             Выездная Торговля   \n",
       "2935731          -1.0             Выездная Торговля   \n",
       "2935837          -1.0           Москва ТРК \"Атриум\"   \n",
       "\n",
       "                                                 item_name  item_category_id  \\\n",
       "60                DEEP PURPLE  The House Of Blue Light  LP                58   \n",
       "64                DEEP PURPLE  The House Of Blue Light  LP                58   \n",
       "1985     DEL REY LANA  Born To Die  The Paradise Editio...                55   \n",
       "2543     DEL REY LANA  Born To Die  The Paradise Editio...                55   \n",
       "2557     DEL REY LANA  Born To Die  The Paradise Editio...                55   \n",
       "...                                                    ...               ...   \n",
       "2934862  Pro Evolution Soccer 2016 [Xbox 360, русские с...                23   \n",
       "2935309  Just Dance 2016. Unlimited [Xbox One, русская ...                24   \n",
       "2935585                Рюкзак Batman With Logo с капюшоном                61   \n",
       "2935731              Футболка Bloodborne Bossfight White L                61   \n",
       "2935837  Комплект «Sony PS3 (320 Gb) (CECH-2508B)» + иг...                11   \n",
       "\n",
       "                          item_category_name  \n",
       "60                            Музыка - Винил  \n",
       "64                            Музыка - Винил  \n",
       "1985     Музыка - CD локального производства  \n",
       "2543     Музыка - CD локального производства  \n",
       "2557     Музыка - CD локального производства  \n",
       "...                                      ...  \n",
       "2934862                      Игры - XBOX 360  \n",
       "2935309                      Игры - XBOX ONE  \n",
       "2935585                 Подарки - Атрибутика  \n",
       "2935731                 Подарки - Атрибутика  \n",
       "2935837                Игровые консоли - PS3  \n",
       "\n",
       "[7356 rows x 10 columns]"
      ]
     },
     "execution_count": 220,
     "metadata": {},
     "output_type": "execute_result"
    }
   ],
   "source": [
    "united_train_data[united_train_data['item_cnt_day'] < 0]"
   ]
  },
  {
   "cell_type": "markdown",
   "id": "5ad58225",
   "metadata": {},
   "source": [
    "# 2.2.1 Item_price - Outliers"
   ]
  },
  {
   "cell_type": "code",
   "execution_count": 221,
   "id": "e09b5979",
   "metadata": {},
   "outputs": [
    {
     "data": {
      "text/plain": [
       "<AxesSubplot: xlabel='item_price'>"
      ]
     },
     "execution_count": 221,
     "metadata": {},
     "output_type": "execute_result"
    },
    {
     "data": {
      "image/png": "[encoded data removed]",
      "text/plain": [
       "<Figure size 640x480 with 1 Axes>"
      ]
     },
     "metadata": {},
     "output_type": "display_data"
    }
   ],
   "source": [
    "sns.boxplot(x=united_train_data['item_price'])"
   ]
  },
  {
   "cell_type": "code",
   "execution_count": 222,
   "id": "7d182f3f",
   "metadata": {},
   "outputs": [
    {
     "data": {
      "text/html": [
       "<div>\n",
       "<style scoped>\n",
       "    .dataframe tbody tr th:only-of-type {\n",
       "        vertical-align: middle;\n",
       "    }\n",
       "\n",
       "    .dataframe tbody tr th {\n",
       "        vertical-align: top;\n",
       "    }\n",
       "\n",
       "    .dataframe thead th {\n",
       "        text-align: right;\n",
       "    }\n",
       "</style>\n",
       "<table border=\"1\" class=\"dataframe\">\n",
       "  <thead>\n",
       "    <tr style=\"text-align: right;\">\n",
       "      <th></th>\n",
       "      <th>date</th>\n",
       "      <th>date_block_num</th>\n",
       "      <th>shop_id</th>\n",
       "      <th>item_id</th>\n",
       "      <th>item_price</th>\n",
       "      <th>item_cnt_day</th>\n",
       "      <th>shop_name</th>\n",
       "      <th>item_name</th>\n",
       "      <th>item_category_id</th>\n",
       "      <th>item_category_name</th>\n",
       "    </tr>\n",
       "  </thead>\n",
       "  <tbody>\n",
       "    <tr>\n",
       "      <th>2163826</th>\n",
       "      <td>13.12.2013</td>\n",
       "      <td>11</td>\n",
       "      <td>12</td>\n",
       "      <td>6066</td>\n",
       "      <td>307980.0</td>\n",
       "      <td>1.0</td>\n",
       "      <td>Интернет-магазин ЧС</td>\n",
       "      <td>Radmin 3  - 522 лиц.</td>\n",
       "      <td>75</td>\n",
       "      <td>Программы - Для дома и офиса</td>\n",
       "    </tr>\n",
       "  </tbody>\n",
       "</table>\n",
       "</div>"
      ],
      "text/plain": [
       "               date  date_block_num  shop_id  item_id  item_price  \\\n",
       "2163826  13.12.2013              11       12     6066    307980.0   \n",
       "\n",
       "         item_cnt_day            shop_name             item_name  \\\n",
       "2163826           1.0  Интернет-магазин ЧС  Radmin 3  - 522 лиц.   \n",
       "\n",
       "         item_category_id            item_category_name  \n",
       "2163826                75  Программы - Для дома и офиса  "
      ]
     },
     "execution_count": 222,
     "metadata": {},
     "output_type": "execute_result"
    }
   ],
   "source": [
    "united_train_data[united_train_data['item_price'] > 300000]"
   ]
  },
  {
   "cell_type": "markdown",
   "id": "1f36e5a5",
   "metadata": {},
   "source": [
    "# 2.2.2 Item_price - Zeros"
   ]
  },
  {
   "cell_type": "code",
   "execution_count": 223,
   "id": "296d351f",
   "metadata": {},
   "outputs": [
    {
     "data": {
      "text/html": [
       "<div>\n",
       "<style scoped>\n",
       "    .dataframe tbody tr th:only-of-type {\n",
       "        vertical-align: middle;\n",
       "    }\n",
       "\n",
       "    .dataframe tbody tr th {\n",
       "        vertical-align: top;\n",
       "    }\n",
       "\n",
       "    .dataframe thead th {\n",
       "        text-align: right;\n",
       "    }\n",
       "</style>\n",
       "<table border=\"1\" class=\"dataframe\">\n",
       "  <thead>\n",
       "    <tr style=\"text-align: right;\">\n",
       "      <th></th>\n",
       "      <th>date</th>\n",
       "      <th>date_block_num</th>\n",
       "      <th>shop_id</th>\n",
       "      <th>item_id</th>\n",
       "      <th>item_price</th>\n",
       "      <th>item_cnt_day</th>\n",
       "      <th>shop_name</th>\n",
       "      <th>item_name</th>\n",
       "      <th>item_category_id</th>\n",
       "      <th>item_category_name</th>\n",
       "    </tr>\n",
       "  </thead>\n",
       "  <tbody>\n",
       "  </tbody>\n",
       "</table>\n",
       "</div>"
      ],
      "text/plain": [
       "Empty DataFrame\n",
       "Columns: [date, date_block_num, shop_id, item_id, item_price, item_cnt_day, shop_name, item_name, item_category_id, item_category_name]\n",
       "Index: []"
      ]
     },
     "execution_count": 223,
     "metadata": {},
     "output_type": "execute_result"
    }
   ],
   "source": [
    "united_train_data[united_train_data['item_price'] == 0]"
   ]
  },
  {
   "cell_type": "markdown",
   "id": "fc44f5aa",
   "metadata": {},
   "source": [
    "# 2.2.3 Item_price - Negative values"
   ]
  },
  {
   "cell_type": "code",
   "execution_count": 224,
   "id": "50807640",
   "metadata": {},
   "outputs": [
    {
     "data": {
      "text/html": [
       "<div>\n",
       "<style scoped>\n",
       "    .dataframe tbody tr th:only-of-type {\n",
       "        vertical-align: middle;\n",
       "    }\n",
       "\n",
       "    .dataframe tbody tr th {\n",
       "        vertical-align: top;\n",
       "    }\n",
       "\n",
       "    .dataframe thead th {\n",
       "        text-align: right;\n",
       "    }\n",
       "</style>\n",
       "<table border=\"1\" class=\"dataframe\">\n",
       "  <thead>\n",
       "    <tr style=\"text-align: right;\">\n",
       "      <th></th>\n",
       "      <th>date</th>\n",
       "      <th>date_block_num</th>\n",
       "      <th>shop_id</th>\n",
       "      <th>item_id</th>\n",
       "      <th>item_price</th>\n",
       "      <th>item_cnt_day</th>\n",
       "      <th>shop_name</th>\n",
       "      <th>item_name</th>\n",
       "      <th>item_category_id</th>\n",
       "      <th>item_category_name</th>\n",
       "    </tr>\n",
       "  </thead>\n",
       "  <tbody>\n",
       "    <tr>\n",
       "      <th>56049</th>\n",
       "      <td>15.05.2013</td>\n",
       "      <td>4</td>\n",
       "      <td>32</td>\n",
       "      <td>2973</td>\n",
       "      <td>-1.0</td>\n",
       "      <td>1.0</td>\n",
       "      <td>Москва ТЦ \"Серебряный Дом\"</td>\n",
       "      <td>DmC Devil May Cry [PS3, русские субтитры]</td>\n",
       "      <td>19</td>\n",
       "      <td>Игры - PS3</td>\n",
       "    </tr>\n",
       "  </tbody>\n",
       "</table>\n",
       "</div>"
      ],
      "text/plain": [
       "             date  date_block_num  shop_id  item_id  item_price  item_cnt_day  \\\n",
       "56049  15.05.2013               4       32     2973        -1.0           1.0   \n",
       "\n",
       "                        shop_name                                  item_name  \\\n",
       "56049  Москва ТЦ \"Серебряный Дом\"  DmC Devil May Cry [PS3, русские субтитры]   \n",
       "\n",
       "       item_category_id item_category_name  \n",
       "56049                19         Игры - PS3  "
      ]
     },
     "execution_count": 224,
     "metadata": {},
     "output_type": "execute_result"
    }
   ],
   "source": [
    "united_train_data[united_train_data['item_price'] < 0]"
   ]
  },
  {
   "cell_type": "markdown",
   "id": "2e707d4c",
   "metadata": {},
   "source": [
    "# Shops duplicate"
   ]
  },
  {
   "cell_type": "markdown",
   "id": "9435958e",
   "metadata": {},
   "source": [
    "# List of probable duplicates:"
   ]
  },
  {
   "cell_type": "code",
   "execution_count": 225,
   "id": "8be9a609",
   "metadata": {
    "scrolled": true
   },
   "outputs": [
    {
     "name": "stderr",
     "output_type": "stream",
     "text": [
      "C:\\Users\\MyPC\\AppData\\Local\\Temp\\ipykernel_10048\\3175041208.py:102: SettingWithCopyWarning: \n",
      "A value is trying to be set on a copy of a slice from a DataFrame\n",
      "\n",
      "See the caveats in the documentation: https://pandas.pydata.org/pandas-docs/stable/user_guide/indexing.html#returning-a-view-versus-a-copy\n",
      "  df_copy[colum_name].iloc[i] = symbol_filter(df_copy[colum_name].iloc[i])\n",
      "100%|█████████████████████████████████████████████████████████████████████████████████| 59/59 [00:00<00:00, 630.51it/s]"
     ]
    },
    {
     "name": "stdout",
     "output_type": "stream",
     "text": [
      "0 !Якутск Орджоникидзе, 56 фран\n",
      "57    Якутск Орджоникидзе, 56\n",
      "Name: shop_name, dtype: object\n",
      "==================\n",
      "1 !Якутск ТЦ \"Центральный\" фран\n",
      "58    Якутск ТЦ \"Центральный\"\n",
      "Name: shop_name, dtype: object\n",
      "==================\n",
      "2 Адыгея ТЦ \"Мега\"\n",
      "37    Новосибирск ТЦ \"Мега\"\n",
      "Name: shop_name, dtype: object\n",
      "==================\n",
      "10 Жуковский ул. Чкалова 39м?\n",
      "11    Жуковский ул. Чкалова 39м²\n",
      "Name: shop_name, dtype: object\n",
      "==================\n",
      "14 Казань ТЦ \"ПаркХаус\" II\n",
      "27    Москва ТЦ \"МЕГА Белая Дача II\"\n",
      "Name: shop_name, dtype: object\n",
      "==================\n",
      "16 Коломна ТЦ \"Рио\"\n",
      "18    Красноярск ТЦ \"Июнь\"\n",
      "50      Тюмень ТЦ \"Гудвин\"\n",
      "Name: shop_name, dtype: object\n",
      "==================\n",
      "17 Красноярск ТЦ \"Взлетка Плаза\"\n",
      "34    Н.Новгород ТРЦ \"РИО\"\n",
      "50      Тюмень ТЦ \"Гудвин\"\n",
      "Name: shop_name, dtype: object\n",
      "==================\n",
      "18 Красноярск ТЦ \"Июнь\"\n",
      "50    Тюмень ТЦ \"Гудвин\"\n",
      "Name: shop_name, dtype: object\n",
      "==================\n",
      "20 Москва \"Распродажа\"\n",
      "29    Москва ТЦ \"Новый век\" (Новокосино)\n",
      "Name: shop_name, dtype: object\n",
      "==================\n",
      "23 Москва ТК \"Буденовский\" (пав.А2)\n",
      "24    Москва ТК \"Буденовский\" (пав.К7)\n",
      "Name: shop_name, dtype: object\n",
      "==================\n",
      "26 Москва ТЦ \"Ареал\" (Беляево)\n",
      "30        Москва ТЦ \"Перловский\"\n",
      "32    Москва ТЦ \"Серебряный Дом\"\n",
      "Name: shop_name, dtype: object\n",
      "==================\n",
      "34 Н.Новгород ТРЦ \"РИО\"\n",
      "50    Тюмень ТЦ \"Гудвин\"\n",
      "Name: shop_name, dtype: object\n",
      "==================\n",
      "39 РостовНаДону ТРК \"Мегацентр Горизонт\"\n",
      "40    РостовНаДону ТРК \"Мегацентр Горизонт\" Островной\n",
      "Name: shop_name, dtype: object\n",
      "==================\n"
     ]
    },
    {
     "name": "stderr",
     "output_type": "stream",
     "text": [
      "\n"
     ]
    }
   ],
   "source": [
    "check_records_duplicates(shops_df, 'shop_name')"
   ]
  },
  {
   "cell_type": "markdown",
   "id": "b499f218",
   "metadata": {},
   "source": [
    "Checking the list of duplicates, we see that some stores are indeed similar:"
   ]
  },
  {
   "cell_type": "code",
   "execution_count": 226,
   "id": "dbed6f04",
   "metadata": {
    "scrolled": false
   },
   "outputs": [
    {
     "name": "stdout",
     "output_type": "stream",
     "text": [
      "\t                        shop_name  shop_id\n",
      "0  !Якутск Орджоникидзе, 56 фран        0 \n",
      "                   shop_name  shop_id\n",
      "57  Якутск Орджоникидзе, 56       57\n",
      "=================================\n",
      "\t                        shop_name  shop_id\n",
      "1  !Якутск ТЦ \"Центральный\" фран        1 \n",
      "                   shop_name  shop_id\n",
      "58  Якутск ТЦ \"Центральный\"       58\n",
      "=================================\n",
      "\t                      shop_name  shop_id\n",
      "10  Жуковский ул. Чкалова 39м?       10 \n",
      "                      shop_name  shop_id\n",
      "11  Жуковский ул. Чкалова 39м²       11\n",
      "=================================\n",
      "\t                            shop_name  shop_id\n",
      "23  Москва ТК \"Буденовский\" (пав.А2)       23 \n",
      "                            shop_name  shop_id\n",
      "24  Москва ТК \"Буденовский\" (пав.К7)       24\n",
      "=================================\n",
      "\t                                 shop_name  shop_id\n",
      "39  РостовНаДону ТРК \"Мегацентр Горизонт\"       39 \n",
      "                                           shop_name  shop_id\n",
      "40  РостовНаДону ТРК \"Мегацентр Горизонт\" Островной       40\n",
      "=================================\n"
     ]
    }
   ],
   "source": [
    "duplicate_list = [\n",
    "    [0,57],\n",
    "    [1,58],\n",
    "    [10,11],\n",
    "    [23,24],\n",
    "    [39,40]\n",
    "]\n",
    "\n",
    "\n",
    "for pair in duplicate_list:\n",
    "    print('\\t', shops_df[shops_df['shop_id'] == pair[0]], '\\n', shops_df[shops_df['shop_id'] == pair[1]])\n",
    "    print('=================================')"
   ]
  },
  {
   "cell_type": "code",
   "execution_count": 227,
   "id": "2c716009",
   "metadata": {
    "scrolled": false
   },
   "outputs": [
    {
     "data": {
      "image/png": "[encoded data removed]",
      "text/plain": [
       "<Figure size 1000x500 with 1 Axes>"
      ]
     },
     "metadata": {},
     "output_type": "display_data"
    },
    {
     "data": {
      "image/png": "[encoded data removed]",
      "text/plain": [
       "<Figure size 1000x500 with 1 Axes>"
      ]
     },
     "metadata": {},
     "output_type": "display_data"
    },
    {
     "data": {
      "image/png": "[encoded data removed]",
      "text/plain": [
       "<Figure size 1000x500 with 1 Axes>"
      ]
     },
     "metadata": {},
     "output_type": "display_data"
    },
    {
     "data": {
      "image/png": "[encoded data removed]",
      "text/plain": [
       "<Figure size 1000x500 with 1 Axes>"
      ]
     },
     "metadata": {},
     "output_type": "display_data"
    },
    {
     "data": {
      "image/png": "[encoded data removed]",
      "text/plain": [
       "<Figure size 1000x500 with 1 Axes>"
      ]
     },
     "metadata": {},
     "output_type": "display_data"
    }
   ],
   "source": [
    "for dup in duplicate_list:\n",
    "    duplicate_sales(united_train_data, dup[0], dup[1])"
   ]
  },
  {
   "cell_type": "markdown",
   "id": "092c38e6",
   "metadata": {},
   "source": [
    "# Prepare the data"
   ]
  },
  {
   "cell_type": "code",
   "execution_count": 228,
   "id": "d24f7ce1",
   "metadata": {},
   "outputs": [
    {
     "name": "stderr",
     "output_type": "stream",
     "text": [
      "C:\\Users\\MyPC\\AppData\\Local\\Temp\\ipykernel_10048\\703939379.py:8: SettingWithCopyWarning: \n",
      "A value is trying to be set on a copy of a slice from a DataFrame\n",
      "\n",
      "See the caveats in the documentation: https://pandas.pydata.org/pandas-docs/stable/user_guide/indexing.html#returning-a-view-versus-a-copy\n",
      "  united_train_data['shop_id'][united_train_data['shop_id'] == pair[0]] = pair[1]\n",
      "C:\\Users\\MyPC\\AppData\\Local\\Temp\\ipykernel_10048\\703939379.py:8: SettingWithCopyWarning: \n",
      "A value is trying to be set on a copy of a slice from a DataFrame\n",
      "\n",
      "See the caveats in the documentation: https://pandas.pydata.org/pandas-docs/stable/user_guide/indexing.html#returning-a-view-versus-a-copy\n",
      "  united_train_data['shop_id'][united_train_data['shop_id'] == pair[0]] = pair[1]\n",
      "C:\\Users\\MyPC\\AppData\\Local\\Temp\\ipykernel_10048\\703939379.py:8: SettingWithCopyWarning: \n",
      "A value is trying to be set on a copy of a slice from a DataFrame\n",
      "\n",
      "See the caveats in the documentation: https://pandas.pydata.org/pandas-docs/stable/user_guide/indexing.html#returning-a-view-versus-a-copy\n",
      "  united_train_data['shop_id'][united_train_data['shop_id'] == pair[0]] = pair[1]\n",
      "C:\\Users\\MyPC\\AppData\\Local\\Temp\\ipykernel_10048\\703939379.py:8: SettingWithCopyWarning: \n",
      "A value is trying to be set on a copy of a slice from a DataFrame\n",
      "\n",
      "See the caveats in the documentation: https://pandas.pydata.org/pandas-docs/stable/user_guide/indexing.html#returning-a-view-versus-a-copy\n",
      "  united_train_data['shop_id'][united_train_data['shop_id'] == pair[0]] = pair[1]\n"
     ]
    }
   ],
   "source": [
    "united_train_data = united_train_data[(united_train_data['item_price'] < 300000) & \n",
    "                                      (united_train_data['item_price'] > 0)]\n",
    "\n",
    "united_train_data = united_train_data[(united_train_data['item_cnt_day'] < 1000) & \n",
    "                                      (united_train_data['item_cnt_day'] > 0)]\n",
    "\n",
    "for pair in duplicate_list:\n",
    "    united_train_data['shop_id'][united_train_data['shop_id'] == pair[0]] = pair[1]"
   ]
  },
  {
   "cell_type": "code",
   "execution_count": 229,
   "id": "5f5c1c2d",
   "metadata": {},
   "outputs": [
    {
     "data": {
      "text/html": [
       "<div>\n",
       "<style scoped>\n",
       "    .dataframe tbody tr th:only-of-type {\n",
       "        vertical-align: middle;\n",
       "    }\n",
       "\n",
       "    .dataframe tbody tr th {\n",
       "        vertical-align: top;\n",
       "    }\n",
       "\n",
       "    .dataframe thead th {\n",
       "        text-align: right;\n",
       "    }\n",
       "</style>\n",
       "<table border=\"1\" class=\"dataframe\">\n",
       "  <thead>\n",
       "    <tr style=\"text-align: right;\">\n",
       "      <th></th>\n",
       "      <th>date</th>\n",
       "      <th>date_block_num</th>\n",
       "      <th>shop_id</th>\n",
       "      <th>item_id</th>\n",
       "      <th>item_price</th>\n",
       "      <th>item_cnt_day</th>\n",
       "      <th>shop_name</th>\n",
       "      <th>item_name</th>\n",
       "      <th>item_category_id</th>\n",
       "      <th>item_category_name</th>\n",
       "    </tr>\n",
       "  </thead>\n",
       "  <tbody>\n",
       "    <tr>\n",
       "      <th>0</th>\n",
       "      <td>02.01.2013</td>\n",
       "      <td>0</td>\n",
       "      <td>59</td>\n",
       "      <td>22154</td>\n",
       "      <td>999.0</td>\n",
       "      <td>1.0</td>\n",
       "      <td>Ярославль ТЦ \"Альтаир\"</td>\n",
       "      <td>ЯВЛЕНИЕ 2012 (BD)</td>\n",
       "      <td>37</td>\n",
       "      <td>Кино - Blu-Ray</td>\n",
       "    </tr>\n",
       "    <tr>\n",
       "      <th>1</th>\n",
       "      <td>23.01.2013</td>\n",
       "      <td>0</td>\n",
       "      <td>24</td>\n",
       "      <td>22154</td>\n",
       "      <td>999.0</td>\n",
       "      <td>1.0</td>\n",
       "      <td>Москва ТК \"Буденовский\" (пав.К7)</td>\n",
       "      <td>ЯВЛЕНИЕ 2012 (BD)</td>\n",
       "      <td>37</td>\n",
       "      <td>Кино - Blu-Ray</td>\n",
       "    </tr>\n",
       "    <tr>\n",
       "      <th>2</th>\n",
       "      <td>20.01.2013</td>\n",
       "      <td>0</td>\n",
       "      <td>27</td>\n",
       "      <td>22154</td>\n",
       "      <td>999.0</td>\n",
       "      <td>1.0</td>\n",
       "      <td>Москва ТЦ \"МЕГА Белая Дача II\"</td>\n",
       "      <td>ЯВЛЕНИЕ 2012 (BD)</td>\n",
       "      <td>37</td>\n",
       "      <td>Кино - Blu-Ray</td>\n",
       "    </tr>\n",
       "    <tr>\n",
       "      <th>3</th>\n",
       "      <td>02.01.2013</td>\n",
       "      <td>0</td>\n",
       "      <td>25</td>\n",
       "      <td>22154</td>\n",
       "      <td>999.0</td>\n",
       "      <td>1.0</td>\n",
       "      <td>Москва ТРК \"Атриум\"</td>\n",
       "      <td>ЯВЛЕНИЕ 2012 (BD)</td>\n",
       "      <td>37</td>\n",
       "      <td>Кино - Blu-Ray</td>\n",
       "    </tr>\n",
       "    <tr>\n",
       "      <th>4</th>\n",
       "      <td>03.01.2013</td>\n",
       "      <td>0</td>\n",
       "      <td>25</td>\n",
       "      <td>22154</td>\n",
       "      <td>999.0</td>\n",
       "      <td>1.0</td>\n",
       "      <td>Москва ТРК \"Атриум\"</td>\n",
       "      <td>ЯВЛЕНИЕ 2012 (BD)</td>\n",
       "      <td>37</td>\n",
       "      <td>Кино - Blu-Ray</td>\n",
       "    </tr>\n",
       "    <tr>\n",
       "      <th>...</th>\n",
       "      <td>...</td>\n",
       "      <td>...</td>\n",
       "      <td>...</td>\n",
       "      <td>...</td>\n",
       "      <td>...</td>\n",
       "      <td>...</td>\n",
       "      <td>...</td>\n",
       "      <td>...</td>\n",
       "      <td>...</td>\n",
       "      <td>...</td>\n",
       "    </tr>\n",
       "    <tr>\n",
       "      <th>2935844</th>\n",
       "      <td>17.10.2015</td>\n",
       "      <td>33</td>\n",
       "      <td>25</td>\n",
       "      <td>8428</td>\n",
       "      <td>249.0</td>\n",
       "      <td>1.0</td>\n",
       "      <td>Москва ТРК \"Атриум\"</td>\n",
       "      <td>АХ, ВОДЕВИЛЬ, ВОДЕВИЛЬ (rem)</td>\n",
       "      <td>40</td>\n",
       "      <td>Кино - DVD</td>\n",
       "    </tr>\n",
       "    <tr>\n",
       "      <th>2935845</th>\n",
       "      <td>01.10.2015</td>\n",
       "      <td>33</td>\n",
       "      <td>25</td>\n",
       "      <td>7903</td>\n",
       "      <td>12198.0</td>\n",
       "      <td>1.0</td>\n",
       "      <td>Москва ТРК \"Атриум\"</td>\n",
       "      <td>XBOX 360 S 250GB CONSOLE/KINECT BUNDLE KUNG FU...</td>\n",
       "      <td>15</td>\n",
       "      <td>Игровые консоли - XBOX 360</td>\n",
       "    </tr>\n",
       "    <tr>\n",
       "      <th>2935846</th>\n",
       "      <td>29.10.2015</td>\n",
       "      <td>33</td>\n",
       "      <td>25</td>\n",
       "      <td>7610</td>\n",
       "      <td>2890.0</td>\n",
       "      <td>1.0</td>\n",
       "      <td>Москва ТРК \"Атриум\"</td>\n",
       "      <td>WARHAMMER ACCESSORIES: Khorne Dice арт. 65-13</td>\n",
       "      <td>64</td>\n",
       "      <td>Подарки - Настольные игры</td>\n",
       "    </tr>\n",
       "    <tr>\n",
       "      <th>2935847</th>\n",
       "      <td>22.10.2015</td>\n",
       "      <td>33</td>\n",
       "      <td>25</td>\n",
       "      <td>7635</td>\n",
       "      <td>2100.0</td>\n",
       "      <td>1.0</td>\n",
       "      <td>Москва ТРК \"Атриум\"</td>\n",
       "      <td>WARHAMMER MINIATURES: Dark Elf Doomfire Warloc...</td>\n",
       "      <td>64</td>\n",
       "      <td>Подарки - Настольные игры</td>\n",
       "    </tr>\n",
       "    <tr>\n",
       "      <th>2935848</th>\n",
       "      <td>01.10.2015</td>\n",
       "      <td>33</td>\n",
       "      <td>25</td>\n",
       "      <td>7640</td>\n",
       "      <td>4040.0</td>\n",
       "      <td>1.0</td>\n",
       "      <td>Москва ТРК \"Атриум\"</td>\n",
       "      <td>WARHAMMER MINIATURES: Stormcast Eternals Palad...</td>\n",
       "      <td>64</td>\n",
       "      <td>Подарки - Настольные игры</td>\n",
       "    </tr>\n",
       "  </tbody>\n",
       "</table>\n",
       "<p>2928489 rows × 10 columns</p>\n",
       "</div>"
      ],
      "text/plain": [
       "               date  date_block_num  shop_id  item_id  item_price  \\\n",
       "0        02.01.2013               0       59    22154       999.0   \n",
       "1        23.01.2013               0       24    22154       999.0   \n",
       "2        20.01.2013               0       27    22154       999.0   \n",
       "3        02.01.2013               0       25    22154       999.0   \n",
       "4        03.01.2013               0       25    22154       999.0   \n",
       "...             ...             ...      ...      ...         ...   \n",
       "2935844  17.10.2015              33       25     8428       249.0   \n",
       "2935845  01.10.2015              33       25     7903     12198.0   \n",
       "2935846  29.10.2015              33       25     7610      2890.0   \n",
       "2935847  22.10.2015              33       25     7635      2100.0   \n",
       "2935848  01.10.2015              33       25     7640      4040.0   \n",
       "\n",
       "         item_cnt_day                         shop_name  \\\n",
       "0                 1.0            Ярославль ТЦ \"Альтаир\"   \n",
       "1                 1.0  Москва ТК \"Буденовский\" (пав.К7)   \n",
       "2                 1.0    Москва ТЦ \"МЕГА Белая Дача II\"   \n",
       "3                 1.0               Москва ТРК \"Атриум\"   \n",
       "4                 1.0               Москва ТРК \"Атриум\"   \n",
       "...               ...                               ...   \n",
       "2935844           1.0               Москва ТРК \"Атриум\"   \n",
       "2935845           1.0               Москва ТРК \"Атриум\"   \n",
       "2935846           1.0               Москва ТРК \"Атриум\"   \n",
       "2935847           1.0               Москва ТРК \"Атриум\"   \n",
       "2935848           1.0               Москва ТРК \"Атриум\"   \n",
       "\n",
       "                                                 item_name  item_category_id  \\\n",
       "0                                        ЯВЛЕНИЕ 2012 (BD)                37   \n",
       "1                                        ЯВЛЕНИЕ 2012 (BD)                37   \n",
       "2                                        ЯВЛЕНИЕ 2012 (BD)                37   \n",
       "3                                        ЯВЛЕНИЕ 2012 (BD)                37   \n",
       "4                                        ЯВЛЕНИЕ 2012 (BD)                37   \n",
       "...                                                    ...               ...   \n",
       "2935844                       АХ, ВОДЕВИЛЬ, ВОДЕВИЛЬ (rem)                40   \n",
       "2935845  XBOX 360 S 250GB CONSOLE/KINECT BUNDLE KUNG FU...                15   \n",
       "2935846      WARHAMMER ACCESSORIES: Khorne Dice арт. 65-13                64   \n",
       "2935847  WARHAMMER MINIATURES: Dark Elf Doomfire Warloc...                64   \n",
       "2935848  WARHAMMER MINIATURES: Stormcast Eternals Palad...                64   \n",
       "\n",
       "                 item_category_name  \n",
       "0                    Кино - Blu-Ray  \n",
       "1                    Кино - Blu-Ray  \n",
       "2                    Кино - Blu-Ray  \n",
       "3                    Кино - Blu-Ray  \n",
       "4                    Кино - Blu-Ray  \n",
       "...                             ...  \n",
       "2935844                  Кино - DVD  \n",
       "2935845  Игровые консоли - XBOX 360  \n",
       "2935846   Подарки - Настольные игры  \n",
       "2935847   Подарки - Настольные игры  \n",
       "2935848   Подарки - Настольные игры  \n",
       "\n",
       "[2928489 rows x 10 columns]"
      ]
     },
     "execution_count": 229,
     "metadata": {},
     "output_type": "execute_result"
    }
   ],
   "source": [
    "united_train_data"
   ]
  },
  {
   "cell_type": "code",
   "execution_count": 230,
   "id": "198ed378",
   "metadata": {},
   "outputs": [
    {
     "data": {
      "text/plain": [
       "Text(0.5, 1.0, 'item_cnt_day')"
      ]
     },
     "execution_count": 230,
     "metadata": {},
     "output_type": "execute_result"
    },
    {
     "data": {
      "image/png": "[encoded data removed]",
      "text/plain": [
       "<Figure size 1500x500 with 2 Axes>"
      ]
     },
     "metadata": {},
     "output_type": "display_data"
    }
   ],
   "source": [
    "fig, axes = plt.subplots(1, 2, figsize=(15, 5), sharey=True)\n",
    "fig.suptitle('Data change after preparing')\n",
    "\n",
    "sns.boxplot(ax=axes[0], x=united_train_data['item_price'])\n",
    "axes[0].set_title('item_price')\n",
    "\n",
    "sns.boxplot(ax=axes[1], x=united_train_data['item_cnt_day'])\n",
    "axes[1].set_title('item_cnt_day')"
   ]
  },
  {
   "cell_type": "code",
   "execution_count": 231,
   "id": "1932b511",
   "metadata": {},
   "outputs": [
    {
     "data": {
      "text/plain": [
       "<function matplotlib.pyplot.show(close=None, block=None)>"
      ]
     },
     "execution_count": 231,
     "metadata": {},
     "output_type": "execute_result"
    },
    {
     "data": {
      "image/png": "[encoded data removed]",
      "text/plain": [
       "<Figure size 2000x1000 with 1 Axes>"
      ]
     },
     "metadata": {},
     "output_type": "display_data"
    }
   ],
   "source": [
    "shops = united_train_data.groupby('shop_id').agg({'item_cnt_day': 'sum'}).reset_index()\n",
    "\n",
    "plt.figure(figsize=(20,10))\n",
    "hist = sns.barplot(x = shops['shop_id'], y = shops['item_cnt_day'])\n",
    "\n",
    "plt.title('Monthly sales in different shops without duplicate')\n",
    "plt.show  "
   ]
  },
  {
   "cell_type": "code",
   "execution_count": null,
   "id": "442cd0cb",
   "metadata": {},
   "outputs": [],
   "source": []
  }
 ],
 "metadata": {
  "kernelspec": {
   "display_name": "pytorch_trial_0",
   "language": "python",
   "name": "pytorch_trial_0"
  },
  "language_info": {
   "codemirror_mode": {
    "name": "ipython",
    "version": 3
   },
   "file_extension": ".py",
   "mimetype": "text/x-python",
   "name": "python",
   "nbconvert_exporter": "python",
   "pygments_lexer": "ipython3",
   "version": "3.10.9"
  }
 },
 "nbformat": 4,
 "nbformat_minor": 5
}
